{
 "cells": [
  {
   "cell_type": "code",
   "execution_count": 2,
   "id": "680448ee-c23c-4f7e-97da-e21cc5ab02eb",
   "metadata": {},
   "outputs": [],
   "source": [
    "benimListem = [5,10,15,20,25,30]"
   ]
  },
  {
   "cell_type": "code",
   "execution_count": 3,
   "id": "18fb9af3-2b87-4b8e-ad5c-8c833059bac5",
   "metadata": {},
   "outputs": [
    {
     "name": "stdout",
     "output_type": "stream",
     "text": [
      "1.0\n",
      "2.0\n",
      "3.0\n",
      "4.0\n",
      "5.0\n",
      "6.0\n"
     ]
    }
   ],
   "source": [
    "for numara in benimListem:\n",
    "    print(numara / 5)"
   ]
  },
  {
   "cell_type": "code",
   "execution_count": 4,
   "id": "d34f12f5-8bfd-4a70-9f32-0f8204e1cc9b",
   "metadata": {},
   "outputs": [
    {
     "name": "stdout",
     "output_type": "stream",
     "text": [
      "5\n",
      "10\n"
     ]
    }
   ],
   "source": [
    "for numara in benimListem:\n",
    "    if numara == 15:\n",
    "        break\n",
    "    print(numara)"
   ]
  },
  {
   "cell_type": "code",
   "execution_count": 5,
   "id": "0384b42b-9919-4df5-a480-8b0f94c62af8",
   "metadata": {},
   "outputs": [
    {
     "name": "stdout",
     "output_type": "stream",
     "text": [
      "5\n",
      "10\n",
      "20\n",
      "25\n",
      "30\n"
     ]
    }
   ],
   "source": [
    "for numara in benimListem:\n",
    "    if numara == 15:\n",
    "        continue\n",
    "    print(numara)"
   ]
  },
  {
   "cell_type": "code",
   "execution_count": 7,
   "id": "38373238-f78b-470e-a6a9-d677f9ec8ef9",
   "metadata": {},
   "outputs": [],
   "source": [
    "for numara in benimListem:\n",
    "    pass"
   ]
  },
  {
   "cell_type": "code",
   "execution_count": null,
   "id": "9abba64b-2afc-4d8e-8d38-69ce4ff809b9",
   "metadata": {},
   "outputs": [],
   "source": []
  }
 ],
 "metadata": {
  "kernelspec": {
   "display_name": "Python 3 (ipykernel)",
   "language": "python",
   "name": "python3"
  },
  "language_info": {
   "codemirror_mode": {
    "name": "ipython",
    "version": 3
   },
   "file_extension": ".py",
   "mimetype": "text/x-python",
   "name": "python",
   "nbconvert_exporter": "python",
   "pygments_lexer": "ipython3",
   "version": "3.12.7"
  }
 },
 "nbformat": 4,
 "nbformat_minor": 5
}
