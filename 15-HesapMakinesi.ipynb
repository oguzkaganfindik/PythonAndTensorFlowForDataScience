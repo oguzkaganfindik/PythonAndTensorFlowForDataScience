{
 "cells": [
  {
   "cell_type": "code",
   "execution_count": null,
   "id": "9517c2ac-cfd6-4bea-a1e3-c166ee154d8d",
   "metadata": {},
   "outputs": [],
   "source": [
    "def hesapla(a,b,islem):\n",
    "\n",
    "    if islem not in \"+-*/\":\n",
    "        return \"lütfen şu işlemlerden birini seçiniz: + - * /\"\n",
    "    \n",
    "    if islem == \"+\":\n",
    "        return (str(a)+\" + \"+str(b) + \" = \" + str(a+b))\n",
    "    if islem == \"-\":\n",
    "        return (str(a)+\" - \"+str(b) + \" = \" + str(a-b))\n",
    "    if islem == \"*\":\n",
    "        return (str(a)+\" * \"+str(b) + \" = \" + str(a*b))\n",
    "    if islem == \"/\":\n",
    "        return (str(a)+\" / \"+str(b) + \" = \" + str(a/b))\n",
    "        \n",
    "while True:\n",
    "    try:\n",
    "        a = int(input(\"ilk sayıyı giriniz \"))\n",
    "        b = int(input(\"ikinci sayıyı giriniz\"))\n",
    "        islem = input(\"işleminizi seçiniz: + - * /\")\n",
    "        print(hesapla(a,b,islem))\n",
    "    except:\n",
    "        print(\"lütfen sadece sayı giriniz\")"
   ]
  },
  {
   "cell_type": "code",
   "execution_count": null,
   "id": "b8189232-c161-4d7b-afbd-13d1bed9f06d",
   "metadata": {},
   "outputs": [],
   "source": []
  }
 ],
 "metadata": {
  "kernelspec": {
   "display_name": "Python 3 (ipykernel)",
   "language": "python",
   "name": "python3"
  },
  "language_info": {
   "codemirror_mode": {
    "name": "ipython",
    "version": 3
   },
   "file_extension": ".py",
   "mimetype": "text/x-python",
   "name": "python",
   "nbconvert_exporter": "python",
   "pygments_lexer": "ipython3",
   "version": "3.12.7"
  },
  "panel-cell-order": [
   "c37797d1-7a79-47fc-8207-b5811939b1de",
   "8feafa7d-90b4-40ee-a37b-14499545706d",
   "3e71125f-384f-4166-b1f9-29eb3a3ae771",
   "299b4fa4-942e-4920-a9d4-414e92b7156b"
  ]
 },
 "nbformat": 4,
 "nbformat_minor": 5
}
