{
 "cells": [
  {
   "cell_type": "code",
   "execution_count": 1,
   "id": "c15a712f-b857-43f8-b124-6c6149d36991",
   "metadata": {},
   "outputs": [],
   "source": [
    "def toplama(numara1,numara2):\n",
    "    return numara1 + numara2"
   ]
  },
  {
   "cell_type": "code",
   "execution_count": 6,
   "id": "af661b2a-d659-404e-9073-49d83eef6529",
   "metadata": {},
   "outputs": [
    {
     "name": "stdin",
     "output_type": "stream",
     "text": [
      "ilk numarayı giriniz:  10\n",
      "ikinci numarayı giriniz:  20\n"
     ]
    },
    {
     "data": {
      "text/plain": [
       "30"
      ]
     },
     "execution_count": 6,
     "metadata": {},
     "output_type": "execute_result"
    }
   ],
   "source": [
    "x = int(input(\"ilk numarayı giriniz: \"))\n",
    "y = int(input(\"ikinci numarayı giriniz: \"))\n",
    "toplama(x,y)"
   ]
  },
  {
   "cell_type": "markdown",
   "id": "8994989a-8c7c-48e5-b701-330c1fbc832a",
   "metadata": {},
   "source": [
    "## try & except & else & finally"
   ]
  },
  {
   "cell_type": "code",
   "execution_count": 10,
   "id": "6ea1f27b-e866-4acf-911c-16c34af81357",
   "metadata": {},
   "outputs": [
    {
     "name": "stdin",
     "output_type": "stream",
     "text": [
      "Numaranızı giriniz:  sfdf 10\n"
     ]
    },
    {
     "name": "stdout",
     "output_type": "stream",
     "text": [
      "Lütfen sadece numara giriniz\n",
      "finally çağırıldı\n"
     ]
    },
    {
     "name": "stdin",
     "output_type": "stream",
     "text": [
      "Numaranızı giriniz:  10\n"
     ]
    },
    {
     "name": "stdout",
     "output_type": "stream",
     "text": [
      "Teşekkürler\n",
      "finally çağırıldı\n"
     ]
    }
   ],
   "source": [
    "while True:\n",
    "    try:\n",
    "        benimInt = int(input(\"Numaranızı giriniz: \"))\n",
    "    except:\n",
    "        print(\"Lütfen sadece numara giriniz\")\n",
    "        continue\n",
    "    else:\n",
    "        print(\"Teşekkürler\")\n",
    "        break\n",
    "    finally:\n",
    "        print(\"finally çağırıldı\")"
   ]
  },
  {
   "cell_type": "code",
   "execution_count": null,
   "id": "41dc0872-6595-43d0-bd17-2f0257cdf1b2",
   "metadata": {},
   "outputs": [],
   "source": []
  }
 ],
 "metadata": {
  "kernelspec": {
   "display_name": "Python 3 (ipykernel)",
   "language": "python",
   "name": "python3"
  },
  "language_info": {
   "codemirror_mode": {
    "name": "ipython",
    "version": 3
   },
   "file_extension": ".py",
   "mimetype": "text/x-python",
   "name": "python",
   "nbconvert_exporter": "python",
   "pygments_lexer": "ipython3",
   "version": "3.12.7"
  },
  "panel-cell-order": [
   "c37797d1-7a79-47fc-8207-b5811939b1de",
   "8feafa7d-90b4-40ee-a37b-14499545706d",
   "3e71125f-384f-4166-b1f9-29eb3a3ae771",
   "299b4fa4-942e-4920-a9d4-414e92b7156b"
  ]
 },
 "nbformat": 4,
 "nbformat_minor": 5
}
