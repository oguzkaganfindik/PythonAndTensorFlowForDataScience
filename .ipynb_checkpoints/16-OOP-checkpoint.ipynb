{
 "cells": [
  {
   "cell_type": "code",
   "execution_count": 64,
   "id": "8cbb26ed-34b0-4bb6-8018-e8388f237fc1",
   "metadata": {},
   "outputs": [],
   "source": [
    "benimListem = list()"
   ]
  },
  {
   "cell_type": "code",
   "execution_count": 65,
   "id": "184491fe-aecd-4187-9c22-10c100cfb334",
   "metadata": {},
   "outputs": [
    {
     "data": {
      "text/plain": [
       "list"
      ]
     },
     "execution_count": 65,
     "metadata": {},
     "output_type": "execute_result"
    }
   ],
   "source": [
    "type(benimListem)"
   ]
  },
  {
   "cell_type": "markdown",
   "id": "f23bb7f5-56a4-48dc-887b-2ed3456ce4a7",
   "metadata": {},
   "source": [
    "## instance & attribute"
   ]
  },
  {
   "cell_type": "code",
   "execution_count": 66,
   "id": "0af6775c-b723-4b77-b329-aff794574875",
   "metadata": {},
   "outputs": [],
   "source": [
    "superKahramanAdi = \"Superman\"\n",
    "superKahramanYasi = 30\n",
    "superKahramanMeslegi = \"Gazeteci\""
   ]
  },
  {
   "cell_type": "code",
   "execution_count": 67,
   "id": "fb156a58-55c9-4d4b-8837-60137ec54077",
   "metadata": {},
   "outputs": [],
   "source": [
    "ikinciSuperKahramanAdi = \"Batman\""
   ]
  },
  {
   "cell_type": "code",
   "execution_count": 68,
   "id": "e5ee1eff-ae97-4b7a-9e1d-5fa032751a43",
   "metadata": {},
   "outputs": [],
   "source": [
    "# Fakat bir sınıfa dönüştürseydik:"
   ]
  },
  {
   "cell_type": "code",
   "execution_count": 69,
   "id": "3dcd9915-d000-4c0c-8700-3697297f266d",
   "metadata": {},
   "outputs": [],
   "source": [
    "class SuperKahraman():\n",
    "    ozelGuc = \"Gorunmezlik\"\n",
    "\n",
    "    def __init__(self,isim,yas,meslek):\n",
    "        print(\"init çağırıldı\")\n",
    "        self.isim = isim\n",
    "        self.yas = yas\n",
    "        self.meslek = meslek\n",
    "\n",
    "    def ornekMethod(self):\n",
    "        print(f\"ben süperkahramanım ve mesleğim: {self.meslek}\")"
   ]
  },
  {
   "cell_type": "code",
   "execution_count": 70,
   "id": "3f155c47-229a-4813-99fb-a478a3a865b8",
   "metadata": {},
   "outputs": [
    {
     "name": "stdout",
     "output_type": "stream",
     "text": [
      "init çağırıldı\n"
     ]
    }
   ],
   "source": [
    "superman = SuperKahraman(\"Superman\",30,\"Gazeteci\")"
   ]
  },
  {
   "cell_type": "code",
   "execution_count": 71,
   "id": "d5415b53-2f8b-4e82-9a7e-7da5c5ccb5e0",
   "metadata": {},
   "outputs": [],
   "source": [
    "superman.isim = \"Clark Kent\""
   ]
  },
  {
   "cell_type": "code",
   "execution_count": 72,
   "id": "c9cee7e6-cf41-4148-987a-950fa8e6e2dd",
   "metadata": {},
   "outputs": [
    {
     "data": {
      "text/plain": [
       "'Clark Kent'"
      ]
     },
     "execution_count": 72,
     "metadata": {},
     "output_type": "execute_result"
    }
   ],
   "source": [
    "superman.isim"
   ]
  },
  {
   "cell_type": "code",
   "execution_count": 73,
   "id": "f3551831-52c9-4474-b8ed-09ce51d7586f",
   "metadata": {},
   "outputs": [
    {
     "data": {
      "text/plain": [
       "30"
      ]
     },
     "execution_count": 73,
     "metadata": {},
     "output_type": "execute_result"
    }
   ],
   "source": [
    "superman.yas"
   ]
  },
  {
   "cell_type": "code",
   "execution_count": 74,
   "id": "27f9ace5-13a9-409b-9aee-55118a24b7ec",
   "metadata": {},
   "outputs": [],
   "source": [
    "superman.ozelGuc = \"Uçabiliyor\""
   ]
  },
  {
   "cell_type": "code",
   "execution_count": 75,
   "id": "f225d224-0f01-4239-be00-1cf402a23504",
   "metadata": {},
   "outputs": [
    {
     "data": {
      "text/plain": [
       "'Uçabiliyor'"
      ]
     },
     "execution_count": 75,
     "metadata": {},
     "output_type": "execute_result"
    }
   ],
   "source": [
    "superman.ozelGuc"
   ]
  },
  {
   "cell_type": "code",
   "execution_count": 76,
   "id": "04ea60fc-d12f-460f-aae6-090d10c84b5a",
   "metadata": {},
   "outputs": [
    {
     "name": "stdout",
     "output_type": "stream",
     "text": [
      "ben süperkahramanım ve mesleğim: Gazeteci\n"
     ]
    }
   ],
   "source": [
    "superman.ornekMethod()"
   ]
  },
  {
   "cell_type": "code",
   "execution_count": 77,
   "id": "0c2ee4bf-84cc-4990-a573-dcf23e7d387a",
   "metadata": {},
   "outputs": [],
   "source": [
    "class Kopek():\n",
    "\n",
    "    yilCarpani = 7\n",
    "    \n",
    "    def __init__(self,yas=5):\n",
    "        self.yas = yas\n",
    "        self.insanYasinaCevrilmisAttribute = yas * 7\n",
    "\n",
    "    def insanYasiniHesapla(self):\n",
    "        return self.yas * Kopek.yilCarpani"
   ]
  },
  {
   "cell_type": "code",
   "execution_count": 78,
   "id": "e18700df-638d-4007-9695-8007efd22862",
   "metadata": {},
   "outputs": [],
   "source": [
    "benimKopek = Kopek()"
   ]
  },
  {
   "cell_type": "code",
   "execution_count": 79,
   "id": "68aa8b78-0c5f-45cd-ae29-e2b9c2c006ff",
   "metadata": {},
   "outputs": [
    {
     "data": {
      "text/plain": [
       "5"
      ]
     },
     "execution_count": 79,
     "metadata": {},
     "output_type": "execute_result"
    }
   ],
   "source": [
    "benimKopek.yas"
   ]
  },
  {
   "cell_type": "code",
   "execution_count": 80,
   "id": "937ce752-d0fc-4c5f-b969-9e73de6a52c0",
   "metadata": {},
   "outputs": [
    {
     "data": {
      "text/plain": [
       "35"
      ]
     },
     "execution_count": 80,
     "metadata": {},
     "output_type": "execute_result"
    }
   ],
   "source": [
    "benimKopek.insanYasiniHesapla()"
   ]
  },
  {
   "cell_type": "code",
   "execution_count": 81,
   "id": "12d6acb2-6274-45d0-9829-0b9af790d01f",
   "metadata": {},
   "outputs": [
    {
     "data": {
      "text/plain": [
       "35"
      ]
     },
     "execution_count": 81,
     "metadata": {},
     "output_type": "execute_result"
    }
   ],
   "source": [
    "benimKopek.insanYasinaCevrilmisAttribute"
   ]
  },
  {
   "cell_type": "markdown",
   "id": "07a7f144-c375-4770-8e1f-789301c376a1",
   "metadata": {},
   "source": [
    "## inheritance"
   ]
  },
  {
   "cell_type": "code",
   "execution_count": 82,
   "id": "a4836313-0ef8-4b1f-82ad-99aab0b4aa0d",
   "metadata": {},
   "outputs": [],
   "source": [
    "class Hayvan():\n",
    "    def __init__(self):\n",
    "        print(\"hayvan sınıfı init çağırıldı\")\n",
    "\n",
    "    def method1(self):\n",
    "        print(\"hayvan sınıfı method1\")\n",
    "\n",
    "    def method2(self):\n",
    "        print(\"hayvan sınıfı method2 çağırıldı\")"
   ]
  },
  {
   "cell_type": "code",
   "execution_count": 83,
   "id": "14454e54-f042-4de9-8f42-9a63f5d797a7",
   "metadata": {},
   "outputs": [
    {
     "name": "stdout",
     "output_type": "stream",
     "text": [
      "hayvan sınıfı init çağırıldı\n"
     ]
    }
   ],
   "source": [
    "benimHayvanim = Hayvan()"
   ]
  },
  {
   "cell_type": "code",
   "execution_count": 84,
   "id": "8dce9e40-ded1-49e5-ae85-5d1b8002d503",
   "metadata": {},
   "outputs": [
    {
     "name": "stdout",
     "output_type": "stream",
     "text": [
      "hayvan sınıfı method1\n"
     ]
    }
   ],
   "source": [
    "benimHayvanim.method1()"
   ]
  },
  {
   "cell_type": "code",
   "execution_count": 85,
   "id": "7a1823bc-61ad-40d7-aa17-599227e995df",
   "metadata": {},
   "outputs": [
    {
     "name": "stdout",
     "output_type": "stream",
     "text": [
      "hayvan sınıfı method2 çağırıldı\n"
     ]
    }
   ],
   "source": [
    "benimHayvanim.method2()"
   ]
  },
  {
   "cell_type": "code",
   "execution_count": 86,
   "id": "1cc274c3-4e6f-4eed-811b-307bf1f68cfe",
   "metadata": {},
   "outputs": [],
   "source": [
    "class Kedi(Hayvan):\n",
    "    def __init__(self):\n",
    "        Hayvan.__init__(self)\n",
    "        print(\"kedi sınıfı init çağırıldı\")\n",
    "\n",
    "    def miyavla(self):\n",
    "        print(\"miyav\")\n",
    "\n",
    "    #override\n",
    "    def method1(self):\n",
    "        print(\"kedi sınıfındaki method1 çağırıldı\")"
   ]
  },
  {
   "cell_type": "code",
   "execution_count": 87,
   "id": "4f4338d7-7016-4abb-bacf-6ffcd8733309",
   "metadata": {},
   "outputs": [
    {
     "name": "stdout",
     "output_type": "stream",
     "text": [
      "hayvan sınıfı init çağırıldı\n",
      "kedi sınıfı init çağırıldı\n"
     ]
    }
   ],
   "source": [
    "benimKedi = Kedi()"
   ]
  },
  {
   "cell_type": "code",
   "execution_count": 88,
   "id": "56499593-71f1-44ec-808d-246c62cbae8d",
   "metadata": {},
   "outputs": [
    {
     "name": "stdout",
     "output_type": "stream",
     "text": [
      "kedi sınıfındaki method1 çağırıldı\n"
     ]
    }
   ],
   "source": [
    "benimKedi.method1()"
   ]
  },
  {
   "cell_type": "code",
   "execution_count": 89,
   "id": "eaae763e-b4db-41d0-a6aa-38c719071e5b",
   "metadata": {},
   "outputs": [
    {
     "name": "stdout",
     "output_type": "stream",
     "text": [
      "miyav\n"
     ]
    }
   ],
   "source": [
    "benimKedi.miyavla()"
   ]
  },
  {
   "cell_type": "code",
   "execution_count": 90,
   "id": "3e0ed4d7-8655-4c3e-a725-888d34753a27",
   "metadata": {},
   "outputs": [
    {
     "name": "stdout",
     "output_type": "stream",
     "text": [
      "hayvan sınıfı init çağırıldı\n"
     ]
    }
   ],
   "source": [
    "digerHayvan = Hayvan()"
   ]
  },
  {
   "cell_type": "code",
   "execution_count": 91,
   "id": "b7209656-9d46-40d5-aeeb-5c0868165339",
   "metadata": {},
   "outputs": [
    {
     "name": "stdout",
     "output_type": "stream",
     "text": [
      "hayvan sınıfı method1\n"
     ]
    }
   ],
   "source": [
    "digerHayvan.method1()"
   ]
  },
  {
   "cell_type": "code",
   "execution_count": 92,
   "id": "a6506696-7903-4561-8095-d4084380a81d",
   "metadata": {},
   "outputs": [
    {
     "name": "stdout",
     "output_type": "stream",
     "text": [
      "hayvan sınıfı init çağırıldı\n",
      "kedi sınıfı init çağırıldı\n"
     ]
    }
   ],
   "source": [
    "digerKedi = Kedi()"
   ]
  },
  {
   "cell_type": "code",
   "execution_count": 93,
   "id": "9225b39a-d599-455d-aa60-6dd838807208",
   "metadata": {},
   "outputs": [
    {
     "name": "stdout",
     "output_type": "stream",
     "text": [
      "kedi sınıfındaki method1 çağırıldı\n"
     ]
    }
   ],
   "source": [
    "digerKedi.method1()"
   ]
  },
  {
   "cell_type": "markdown",
   "id": "7cb0b55e-bfea-4991-be1b-f7fc42b91d69",
   "metadata": {},
   "source": [
    "## Polymorphism"
   ]
  },
  {
   "cell_type": "code",
   "execution_count": 94,
   "id": "2a87d350-b2da-4b77-8a5f-0dc3450a90a1",
   "metadata": {},
   "outputs": [],
   "source": [
    "class Elma():\n",
    "    def __init__(self,isim):\n",
    "        self.isim = isim\n",
    "\n",
    "    def bilgiVer(self):\n",
    "        return self.isim + \" 100 kaloridir \""
   ]
  },
  {
   "cell_type": "code",
   "execution_count": 95,
   "id": "2968ac72-b17e-473e-a1b3-e81ac7e08575",
   "metadata": {},
   "outputs": [],
   "source": [
    "class Muz():\n",
    "    def __init__(self,isim):\n",
    "        self.isim = isim\n",
    "\n",
    "    def bilgiVer(self):\n",
    "        return self.isim + \" 150 kaloridir \""
   ]
  },
  {
   "cell_type": "code",
   "execution_count": 96,
   "id": "16aa6cbb-d64d-4131-8c21-659093b47d42",
   "metadata": {},
   "outputs": [],
   "source": [
    "elma = Elma(\"elma\")"
   ]
  },
  {
   "cell_type": "code",
   "execution_count": 97,
   "id": "021dcbe9-e45d-48df-90ea-e0efb90d7173",
   "metadata": {},
   "outputs": [
    {
     "data": {
      "text/plain": [
       "'elma 100 kaloridir '"
      ]
     },
     "execution_count": 97,
     "metadata": {},
     "output_type": "execute_result"
    }
   ],
   "source": [
    "elma.bilgiVer()"
   ]
  },
  {
   "cell_type": "code",
   "execution_count": 98,
   "id": "fc792666-a47f-41d2-98a4-0725fe7a609e",
   "metadata": {},
   "outputs": [],
   "source": [
    "muz = Muz(\"muz\")"
   ]
  },
  {
   "cell_type": "code",
   "execution_count": 99,
   "id": "b7e0e54a-f36f-4648-9646-e1b6a7647999",
   "metadata": {},
   "outputs": [
    {
     "data": {
      "text/plain": [
       "'muz 150 kaloridir '"
      ]
     },
     "execution_count": 99,
     "metadata": {},
     "output_type": "execute_result"
    }
   ],
   "source": [
    "muz.bilgiVer()"
   ]
  },
  {
   "cell_type": "code",
   "execution_count": 100,
   "id": "adc7345a-1bf4-49ca-b42a-4db7fb61edaa",
   "metadata": {},
   "outputs": [],
   "source": [
    "meyveListesi = [elma,muz]"
   ]
  },
  {
   "cell_type": "code",
   "execution_count": 101,
   "id": "f6b064aa-e1c4-4791-b903-59037466339d",
   "metadata": {},
   "outputs": [
    {
     "name": "stdout",
     "output_type": "stream",
     "text": [
      "elma 100 kaloridir \n",
      "muz 150 kaloridir \n"
     ]
    }
   ],
   "source": [
    "for meyve in meyveListesi:\n",
    "    print(meyve.bilgiVer())"
   ]
  },
  {
   "cell_type": "code",
   "execution_count": 102,
   "id": "f05b1547-7d7d-48c0-8366-706eb45ab55b",
   "metadata": {},
   "outputs": [],
   "source": [
    "def bilgiAl(meyve):\n",
    "    print(meyve.bilgiVer())"
   ]
  },
  {
   "cell_type": "code",
   "execution_count": 104,
   "id": "7671324b-419a-44de-aa69-b487f33f3e3e",
   "metadata": {},
   "outputs": [
    {
     "name": "stdout",
     "output_type": "stream",
     "text": [
      "muz 150 kaloridir \n"
     ]
    }
   ],
   "source": [
    "bilgiAl(muz)"
   ]
  },
  {
   "cell_type": "code",
   "execution_count": 105,
   "id": "f2ebbb82-f852-4b68-8003-ca37405d6f41",
   "metadata": {},
   "outputs": [
    {
     "name": "stdout",
     "output_type": "stream",
     "text": [
      "elma 100 kaloridir \n"
     ]
    }
   ],
   "source": [
    "bilgiAl(elma)"
   ]
  }
 ],
 "metadata": {
  "kernelspec": {
   "display_name": "Python 3 (ipykernel)",
   "language": "python",
   "name": "python3"
  },
  "language_info": {
   "codemirror_mode": {
    "name": "ipython",
    "version": 3
   },
   "file_extension": ".py",
   "mimetype": "text/x-python",
   "name": "python",
   "nbconvert_exporter": "python",
   "pygments_lexer": "ipython3",
   "version": "3.12.7"
  }
 },
 "nbformat": 4,
 "nbformat_minor": 5
}
