{
 "cells": [
  {
   "cell_type": "code",
   "execution_count": 266,
   "id": "347c05c6-e3b3-4a19-bcc8-a0384878fefe",
   "metadata": {},
   "outputs": [],
   "source": [
    "isimString = \"Oğuzkağan FINDIK\""
   ]
  },
  {
   "cell_type": "code",
   "execution_count": 267,
   "id": "c37797d1-7a79-47fc-8207-b5811939b1de",
   "metadata": {
    "panel-layout": {
     "height": 51.140625,
     "visible": true,
     "width": 100
    }
   },
   "outputs": [
    {
     "data": {
      "text/plain": [
       "'Oğuzkağan FINDIK'"
      ]
     },
     "execution_count": 267,
     "metadata": {},
     "output_type": "execute_result"
    }
   ],
   "source": [
    "isimString"
   ]
  },
  {
   "cell_type": "markdown",
   "id": "8feafa7d-90b4-40ee-a37b-14499545706d",
   "metadata": {
    "panel-layout": {
     "height": 50.796875,
     "visible": true,
     "width": 100
    }
   },
   "source": [
    "## Index"
   ]
  },
  {
   "cell_type": "code",
   "execution_count": 268,
   "id": "3e71125f-384f-4166-b1f9-29eb3a3ae771",
   "metadata": {
    "panel-layout": {
     "height": 51.140625,
     "visible": true,
     "width": 100
    }
   },
   "outputs": [
    {
     "data": {
      "text/plain": [
       "'O'"
      ]
     },
     "execution_count": 268,
     "metadata": {},
     "output_type": "execute_result"
    }
   ],
   "source": [
    "isimString[0]"
   ]
  },
  {
   "cell_type": "code",
   "execution_count": 269,
   "id": "299b4fa4-942e-4920-a9d4-414e92b7156b",
   "metadata": {
    "panel-layout": {
     "height": 51.140625,
     "visible": true,
     "width": 100
    }
   },
   "outputs": [
    {
     "data": {
      "text/plain": [
       "'K'"
      ]
     },
     "execution_count": 269,
     "metadata": {},
     "output_type": "execute_result"
    }
   ],
   "source": [
    "isimString[-1]"
   ]
  },
  {
   "cell_type": "code",
   "execution_count": 270,
   "id": "d5cec55f-8b50-47a4-8269-4f909d08ee1f",
   "metadata": {},
   "outputs": [
    {
     "data": {
      "text/plain": [
       "'Oğ'"
      ]
     },
     "execution_count": 270,
     "metadata": {},
     "output_type": "execute_result"
    }
   ],
   "source": [
    "isimString[0] + isimString[1]"
   ]
  },
  {
   "cell_type": "code",
   "execution_count": 271,
   "id": "c12e3592-bb57-4dbe-9964-ba361c9dec35",
   "metadata": {},
   "outputs": [],
   "source": [
    "yeniString = \"0123456789\""
   ]
  },
  {
   "cell_type": "code",
   "execution_count": 272,
   "id": "5a117ced-85c6-434a-81d6-f7dbbe13cd9c",
   "metadata": {},
   "outputs": [
    {
     "data": {
      "text/plain": [
       "23456789"
      ]
     },
     "execution_count": 272,
     "metadata": {},
     "output_type": "execute_result"
    }
   ],
   "source": [
    "int(yeniString[2:])"
   ]
  },
  {
   "cell_type": "code",
   "execution_count": 273,
   "id": "ad0fb5ba-f5d6-480d-9ee7-386716c2e535",
   "metadata": {},
   "outputs": [],
   "source": [
    "harfString = \"abcdefgh\""
   ]
  },
  {
   "cell_type": "code",
   "execution_count": 274,
   "id": "e098951a-f45d-467f-8d93-5a565d86381a",
   "metadata": {},
   "outputs": [
    {
     "data": {
      "text/plain": [
       "'defgh'"
      ]
     },
     "execution_count": 274,
     "metadata": {},
     "output_type": "execute_result"
    }
   ],
   "source": [
    "harfString[3:]"
   ]
  },
  {
   "cell_type": "code",
   "execution_count": 275,
   "id": "385a7834-8e10-42d1-a409-107e270c6062",
   "metadata": {},
   "outputs": [
    {
     "data": {
      "text/plain": [
       "'abc'"
      ]
     },
     "execution_count": 275,
     "metadata": {},
     "output_type": "execute_result"
    }
   ],
   "source": [
    "harfString[:3]"
   ]
  },
  {
   "cell_type": "markdown",
   "id": "074aaf83-c951-4027-b683-575fe77b40e9",
   "metadata": {},
   "source": [
    "## Slicing"
   ]
  },
  {
   "cell_type": "code",
   "execution_count": 276,
   "id": "994d3b91-65a3-44b6-8366-44fdd3a9ee89",
   "metadata": {},
   "outputs": [],
   "source": [
    "gelenVeri = \"AhmetinYasi65\""
   ]
  },
  {
   "cell_type": "code",
   "execution_count": 277,
   "id": "0ee6ea50-0c89-4397-9d95-265511bb7694",
   "metadata": {},
   "outputs": [
    {
     "data": {
      "text/plain": [
       "'me'"
      ]
     },
     "execution_count": 277,
     "metadata": {},
     "output_type": "execute_result"
    }
   ],
   "source": [
    "gelenVeri[2:4]"
   ]
  },
  {
   "cell_type": "markdown",
   "id": "83d975b0-09b0-446c-a90f-244941f102d4",
   "metadata": {},
   "source": [
    "## Step Size"
   ]
  },
  {
   "cell_type": "code",
   "execution_count": 278,
   "id": "eedfb502-4283-4ecd-9cf5-6af46d01a8bc",
   "metadata": {},
   "outputs": [
    {
     "data": {
      "text/plain": [
       "'htY'"
      ]
     },
     "execution_count": 278,
     "metadata": {},
     "output_type": "execute_result"
    }
   ],
   "source": [
    "gelenVeri[1:10:3]"
   ]
  },
  {
   "cell_type": "code",
   "execution_count": 279,
   "id": "851c7e3d-b9da-41f7-b0f7-7a8931af3791",
   "metadata": {},
   "outputs": [
    {
     "data": {
      "text/plain": [
       "'56isaYnitemhA'"
      ]
     },
     "execution_count": 279,
     "metadata": {},
     "output_type": "execute_result"
    }
   ],
   "source": [
    "gelenVeri[::-1]"
   ]
  },
  {
   "cell_type": "code",
   "execution_count": 280,
   "id": "ecf0efa8-e968-455d-9f7e-29bf3cb1b4a1",
   "metadata": {},
   "outputs": [],
   "source": [
    "benimIsmim = \"oğuz\""
   ]
  },
  {
   "cell_type": "code",
   "execution_count": 281,
   "id": "ecef0cb9-e5f6-4482-97e1-4cf880582d2c",
   "metadata": {},
   "outputs": [
    {
     "data": {
      "text/plain": [
       "'Oğuz'"
      ]
     },
     "execution_count": 281,
     "metadata": {},
     "output_type": "execute_result"
    }
   ],
   "source": [
    "benimIsmim.capitalize()"
   ]
  },
  {
   "cell_type": "code",
   "execution_count": 282,
   "id": "e7a6a911-9d16-4f94-a145-7d8cc4e404ba",
   "metadata": {},
   "outputs": [
    {
     "data": {
      "text/plain": [
       "'oğuz'"
      ]
     },
     "execution_count": 282,
     "metadata": {},
     "output_type": "execute_result"
    }
   ],
   "source": [
    "benimIsmim"
   ]
  },
  {
   "cell_type": "code",
   "execution_count": 283,
   "id": "65b564e9-49c2-405e-8b68-a759d1cfea9d",
   "metadata": {},
   "outputs": [],
   "source": [
    "benimYeniIsmim = benimIsmim.capitalize()"
   ]
  },
  {
   "cell_type": "code",
   "execution_count": 284,
   "id": "9b72885c-8bba-495e-b625-53972b4d8e5d",
   "metadata": {},
   "outputs": [
    {
     "data": {
      "text/plain": [
       "'Oğuz'"
      ]
     },
     "execution_count": 284,
     "metadata": {},
     "output_type": "execute_result"
    }
   ],
   "source": [
    "benimYeniIsmim"
   ]
  },
  {
   "cell_type": "code",
   "execution_count": 285,
   "id": "df7da0c1-6799-4cec-932c-24770f71e24b",
   "metadata": {},
   "outputs": [],
   "source": [
    "benimTamIsmim = \"Oğuzkağan Fındık\""
   ]
  },
  {
   "cell_type": "code",
   "execution_count": 286,
   "id": "0fa44755-76da-401d-a82d-0057c4c8c2fa",
   "metadata": {},
   "outputs": [
    {
     "data": {
      "text/plain": [
       "['Oğuzkağan', 'Fındık']"
      ]
     },
     "execution_count": 286,
     "metadata": {},
     "output_type": "execute_result"
    }
   ],
   "source": [
    "benimTamIsmim.split()"
   ]
  },
  {
   "cell_type": "markdown",
   "id": "274e98f8-7022-409d-9651-1d4e872b7fc7",
   "metadata": {},
   "source": [
    "## Listeler"
   ]
  },
  {
   "cell_type": "code",
   "execution_count": 287,
   "id": "af551b5d-7e6f-4b3c-82a4-d3d2e7119372",
   "metadata": {},
   "outputs": [],
   "source": [
    "benimString = \"Oğuzkağan Fındık\""
   ]
  },
  {
   "cell_type": "code",
   "execution_count": 288,
   "id": "a3f3a7b0-4401-4361-b67c-c62d94089d4d",
   "metadata": {},
   "outputs": [
    {
     "data": {
      "text/plain": [
       "'O'"
      ]
     },
     "execution_count": 288,
     "metadata": {},
     "output_type": "execute_result"
    }
   ],
   "source": [
    "benimString[0]"
   ]
  },
  {
   "cell_type": "code",
   "execution_count": 289,
   "id": "eba8d127-338b-4acb-9964-8040f936a19e",
   "metadata": {},
   "outputs": [],
   "source": [
    "benimListem = [10, 20, 30, 40]"
   ]
  },
  {
   "cell_type": "code",
   "execution_count": 290,
   "id": "554d2a4b-e94e-492f-a53a-bd2776bbf4c3",
   "metadata": {},
   "outputs": [],
   "source": [
    "benimNumaram = 10\n",
    "benimDigerNumaram = 20\n",
    "benimNumaraListem = [benimNumaram,benimDigerNumaram]"
   ]
  },
  {
   "cell_type": "code",
   "execution_count": 291,
   "id": "3b356d2b-157a-4b68-956c-e1bd07dbb551",
   "metadata": {},
   "outputs": [
    {
     "data": {
      "text/plain": [
       "[10, 20]"
      ]
     },
     "execution_count": 291,
     "metadata": {},
     "output_type": "execute_result"
    }
   ],
   "source": [
    "benimNumaraListem"
   ]
  },
  {
   "cell_type": "code",
   "execution_count": 292,
   "id": "e91aed7e-76e6-4964-995a-32dbc42e852e",
   "metadata": {},
   "outputs": [
    {
     "data": {
      "text/plain": [
       "10"
      ]
     },
     "execution_count": 292,
     "metadata": {},
     "output_type": "execute_result"
    }
   ],
   "source": [
    "benimNumaraListem[0]"
   ]
  },
  {
   "cell_type": "code",
   "execution_count": 293,
   "id": "7e28da03-2faa-45b7-953e-ce48a5f7ea97",
   "metadata": {},
   "outputs": [],
   "source": [
    "benimListem.append(50)"
   ]
  },
  {
   "cell_type": "code",
   "execution_count": 294,
   "id": "019f265e-f84b-4cc8-9b6d-c703c599cecb",
   "metadata": {},
   "outputs": [
    {
     "data": {
      "text/plain": [
       "[10, 20, 30, 40, 50]"
      ]
     },
     "execution_count": 294,
     "metadata": {},
     "output_type": "execute_result"
    }
   ],
   "source": [
    "benimListem"
   ]
  },
  {
   "cell_type": "code",
   "execution_count": 295,
   "id": "87f0e96f-e1cf-44e2-bfa5-73fc33f83d0d",
   "metadata": {},
   "outputs": [
    {
     "data": {
      "text/plain": [
       "50"
      ]
     },
     "execution_count": 295,
     "metadata": {},
     "output_type": "execute_result"
    }
   ],
   "source": [
    "benimListem.pop()"
   ]
  },
  {
   "cell_type": "code",
   "execution_count": 296,
   "id": "cd981694-aaaf-43b8-839c-8df0d47c5e24",
   "metadata": {},
   "outputs": [
    {
     "data": {
      "text/plain": [
       "[10, 20, 30, 40]"
      ]
     },
     "execution_count": 296,
     "metadata": {},
     "output_type": "execute_result"
    }
   ],
   "source": [
    "benimListem"
   ]
  },
  {
   "cell_type": "code",
   "execution_count": 297,
   "id": "c0a61b78-54ce-4b22-85a0-31da77492c50",
   "metadata": {},
   "outputs": [],
   "source": [
    "benimListem.remove(40)"
   ]
  },
  {
   "cell_type": "code",
   "execution_count": 298,
   "id": "33eac485-0e29-4d85-93b9-3a7f2d4f9a90",
   "metadata": {},
   "outputs": [
    {
     "data": {
      "text/plain": [
       "[10, 20, 30]"
      ]
     },
     "execution_count": 298,
     "metadata": {},
     "output_type": "execute_result"
    }
   ],
   "source": [
    "benimListem"
   ]
  },
  {
   "cell_type": "code",
   "execution_count": 299,
   "id": "43a4d0b2-26d9-4653-a56a-21bab2d328bc",
   "metadata": {},
   "outputs": [
    {
     "data": {
      "text/plain": [
       "1"
      ]
     },
     "execution_count": 299,
     "metadata": {},
     "output_type": "execute_result"
    }
   ],
   "source": [
    "benimListem.count(10)"
   ]
  },
  {
   "cell_type": "code",
   "execution_count": 300,
   "id": "ac495f82-baff-45fe-9e60-c9817d65d6de",
   "metadata": {},
   "outputs": [],
   "source": [
    "benimListem.append(10)"
   ]
  },
  {
   "cell_type": "code",
   "execution_count": 301,
   "id": "99672e94-abae-4f52-962c-538da2fd8ab0",
   "metadata": {},
   "outputs": [
    {
     "data": {
      "text/plain": [
       "2"
      ]
     },
     "execution_count": 301,
     "metadata": {},
     "output_type": "execute_result"
    }
   ],
   "source": [
    "benimListem.count(10)"
   ]
  },
  {
   "cell_type": "code",
   "execution_count": 302,
   "id": "1ca90d9c-6e52-4fc6-afa2-ae3d651083c5",
   "metadata": {},
   "outputs": [],
   "source": [
    "benimStringListem = [\"oğuz\", \"ali\", \"veli\"]"
   ]
  },
  {
   "cell_type": "code",
   "execution_count": 303,
   "id": "d6175018-a352-4586-a92e-fe562037e5e9",
   "metadata": {},
   "outputs": [],
   "source": [
    "benimDigerListem = [\"mehmet\", \"mahmut\", \"atlas\"]"
   ]
  },
  {
   "cell_type": "code",
   "execution_count": 304,
   "id": "f64195dd-e29b-47a0-afc7-cafbdbae05c5",
   "metadata": {},
   "outputs": [
    {
     "data": {
      "text/plain": [
       "'atlas'"
      ]
     },
     "execution_count": 304,
     "metadata": {},
     "output_type": "execute_result"
    }
   ],
   "source": [
    "benimDigerListem[2]"
   ]
  },
  {
   "cell_type": "code",
   "execution_count": 305,
   "id": "fd1f3139-8dc6-49af-9923-a74c1f54ce4d",
   "metadata": {},
   "outputs": [],
   "source": [
    "benimToplamaListem = benimStringListem + benimDigerListem"
   ]
  },
  {
   "cell_type": "code",
   "execution_count": 306,
   "id": "4eb57eaf-af64-4a06-998a-8119bb0f2345",
   "metadata": {},
   "outputs": [
    {
     "data": {
      "text/plain": [
       "['oğuz', 'ali', 'veli', 'mehmet', 'mahmut', 'atlas']"
      ]
     },
     "execution_count": 306,
     "metadata": {},
     "output_type": "execute_result"
    }
   ],
   "source": [
    "benimToplamaListem"
   ]
  },
  {
   "cell_type": "code",
   "execution_count": 307,
   "id": "9e7c186b-4415-4a8a-8a52-e2a6185dbeff",
   "metadata": {},
   "outputs": [
    {
     "data": {
      "text/plain": [
       "['oğuz',\n",
       " 'ali',\n",
       " 'veli',\n",
       " 'oğuz',\n",
       " 'ali',\n",
       " 'veli',\n",
       " 'oğuz',\n",
       " 'ali',\n",
       " 'veli',\n",
       " 'oğuz',\n",
       " 'ali',\n",
       " 'veli',\n",
       " 'oğuz',\n",
       " 'ali',\n",
       " 'veli']"
      ]
     },
     "execution_count": 307,
     "metadata": {},
     "output_type": "execute_result"
    }
   ],
   "source": [
    "benimStringListem * 5"
   ]
  },
  {
   "cell_type": "code",
   "execution_count": 308,
   "id": "a8ef8a10-c2ae-4d9a-a8a8-590ef1439b0a",
   "metadata": {},
   "outputs": [
    {
     "data": {
      "text/plain": [
       "['oğuz', 'ali', 'veli', 'mehmet', 'mahmut', 'atlas']"
      ]
     },
     "execution_count": 308,
     "metadata": {},
     "output_type": "execute_result"
    }
   ],
   "source": [
    "benimToplamaListem"
   ]
  },
  {
   "cell_type": "code",
   "execution_count": 309,
   "id": "1cdcadbf-be8d-49ab-bd05-e1f0f65545ec",
   "metadata": {},
   "outputs": [],
   "source": [
    "benimToplamaListem.reverse()"
   ]
  },
  {
   "cell_type": "code",
   "execution_count": 310,
   "id": "bf846b28-b628-49cc-95a2-aecb13529916",
   "metadata": {},
   "outputs": [
    {
     "data": {
      "text/plain": [
       "['atlas', 'mahmut', 'mehmet', 'veli', 'ali', 'oğuz']"
      ]
     },
     "execution_count": 310,
     "metadata": {},
     "output_type": "execute_result"
    }
   ],
   "source": [
    "benimToplamaListem"
   ]
  },
  {
   "cell_type": "code",
   "execution_count": 311,
   "id": "81b02dad-ad06-46a6-98f2-bee58b0f5397",
   "metadata": {},
   "outputs": [],
   "source": [
    "karisikListe = [1,2,3.14,\"oğuz\",9]"
   ]
  },
  {
   "cell_type": "code",
   "execution_count": 312,
   "id": "b9b86981-9169-4fcf-8df5-2bf32fad14e3",
   "metadata": {},
   "outputs": [
    {
     "data": {
      "text/plain": [
       "[1, 2, 3.14, 'oğuz', 9]"
      ]
     },
     "execution_count": 312,
     "metadata": {},
     "output_type": "execute_result"
    }
   ],
   "source": [
    "karisikListe"
   ]
  },
  {
   "cell_type": "code",
   "execution_count": 313,
   "id": "d00ec394-9897-455c-9131-ab7e2de899b5",
   "metadata": {},
   "outputs": [
    {
     "data": {
      "text/plain": [
       "list"
      ]
     },
     "execution_count": 313,
     "metadata": {},
     "output_type": "execute_result"
    }
   ],
   "source": [
    "type(karisikListe)"
   ]
  },
  {
   "cell_type": "code",
   "execution_count": 314,
   "id": "34c9e08a-2753-4ee7-8e1f-50a7a4401d3a",
   "metadata": {},
   "outputs": [],
   "source": [
    "sonucum = karisikListe[2]"
   ]
  },
  {
   "cell_type": "code",
   "execution_count": 315,
   "id": "1a5d440d-20a6-44d6-a8bd-da1c6c43af6f",
   "metadata": {},
   "outputs": [
    {
     "data": {
      "text/plain": [
       "float"
      ]
     },
     "execution_count": 315,
     "metadata": {},
     "output_type": "execute_result"
    }
   ],
   "source": [
    "type(sonucum)"
   ]
  },
  {
   "cell_type": "code",
   "execution_count": 316,
   "id": "54e64b0b-fb55-41b9-b6c7-b59c78e7130b",
   "metadata": {},
   "outputs": [],
   "source": [
    "nestedList = [1,5,\"oğuz\",4,[6,\"z\"]]"
   ]
  },
  {
   "cell_type": "code",
   "execution_count": 317,
   "id": "2f2bd9f2-2488-43e9-9324-13d9f49f93ed",
   "metadata": {},
   "outputs": [
    {
     "data": {
      "text/plain": [
       "[6, 'z']"
      ]
     },
     "execution_count": 317,
     "metadata": {},
     "output_type": "execute_result"
    }
   ],
   "source": [
    "nestedList[4]"
   ]
  },
  {
   "cell_type": "code",
   "execution_count": 318,
   "id": "dc9bc7f7-37a5-4ec8-b395-c9efc8d577d8",
   "metadata": {},
   "outputs": [
    {
     "data": {
      "text/plain": [
       "list"
      ]
     },
     "execution_count": 318,
     "metadata": {},
     "output_type": "execute_result"
    }
   ],
   "source": [
    "type(nestedList)"
   ]
  },
  {
   "cell_type": "code",
   "execution_count": 319,
   "id": "5be9f724-6210-49c6-93a9-337d18a17d87",
   "metadata": {},
   "outputs": [],
   "source": [
    "zDegiskenimiz = nestedList[4]"
   ]
  },
  {
   "cell_type": "code",
   "execution_count": 323,
   "id": "13d4e55a-f50f-4a44-b683-85a28615b83e",
   "metadata": {},
   "outputs": [
    {
     "data": {
      "text/plain": [
       "[6, 'z']"
      ]
     },
     "execution_count": 323,
     "metadata": {},
     "output_type": "execute_result"
    }
   ],
   "source": [
    "zDegiskenimiz"
   ]
  },
  {
   "cell_type": "code",
   "execution_count": 325,
   "id": "a31b491c-8955-4ec5-8daf-3091ebdae0ba",
   "metadata": {},
   "outputs": [],
   "source": [
    "zDegiskenimizOrnek = zDegiskenimiz[1]"
   ]
  },
  {
   "cell_type": "code",
   "execution_count": 326,
   "id": "88114034-8069-4fba-8af2-188f6db03bfe",
   "metadata": {},
   "outputs": [
    {
     "data": {
      "text/plain": [
       "'z'"
      ]
     },
     "execution_count": 326,
     "metadata": {},
     "output_type": "execute_result"
    }
   ],
   "source": [
    "zDegiskenimizOrnek"
   ]
  },
  {
   "cell_type": "code",
   "execution_count": 327,
   "id": "69618000-27ac-43d3-966d-5b3c6e72c7ad",
   "metadata": {},
   "outputs": [],
   "source": [
    "zDegiskenimiz = nestedList[4][1]"
   ]
  },
  {
   "cell_type": "code",
   "execution_count": 328,
   "id": "d676b374-5a2f-4e7c-b67c-4c1af0612a75",
   "metadata": {},
   "outputs": [
    {
     "data": {
      "text/plain": [
       "'z'"
      ]
     },
     "execution_count": 328,
     "metadata": {},
     "output_type": "execute_result"
    }
   ],
   "source": [
    "zDegiskenimiz"
   ]
  },
  {
   "cell_type": "code",
   "execution_count": 329,
   "id": "c213f7cf-52b7-4821-ba4f-52f0598a800e",
   "metadata": {},
   "outputs": [],
   "source": [
    "karmasikListe = [[1,2,3,[\"a\",\"b\"],50],40,20,[\"z\",5.5],[3,[\"a\"]]]"
   ]
  },
  {
   "cell_type": "code",
   "execution_count": 335,
   "id": "bce8e30e-7af1-4987-a682-25036caa10d2",
   "metadata": {},
   "outputs": [],
   "source": [
    "bDegiskenimiz = karmasikListe[0][3][1]"
   ]
  },
  {
   "cell_type": "code",
   "execution_count": 336,
   "id": "9bfee3c1-1cd7-4487-b068-a1ec4844a26d",
   "metadata": {},
   "outputs": [
    {
     "data": {
      "text/plain": [
       "'b'"
      ]
     },
     "execution_count": 336,
     "metadata": {},
     "output_type": "execute_result"
    }
   ],
   "source": [
    "bDegiskenimiz"
   ]
  },
  {
   "cell_type": "code",
   "execution_count": 337,
   "id": "e288d824-8b17-43b9-86e3-cd3902feaee7",
   "metadata": {},
   "outputs": [
    {
     "data": {
      "text/plain": [
       "[1, 5, 'oğuz', 4, [6, 'z']]"
      ]
     },
     "execution_count": 337,
     "metadata": {},
     "output_type": "execute_result"
    }
   ],
   "source": [
    "nestedList"
   ]
  },
  {
   "cell_type": "code",
   "execution_count": 339,
   "id": "909b3196-df2f-42b0-bca1-d0a57bed5062",
   "metadata": {},
   "outputs": [
    {
     "data": {
      "text/plain": [
       "[1, 5]"
      ]
     },
     "execution_count": 339,
     "metadata": {},
     "output_type": "execute_result"
    }
   ],
   "source": [
    "nestedList[:2]"
   ]
  },
  {
   "cell_type": "code",
   "execution_count": 341,
   "id": "4473d7ea-cfdd-4cbd-867b-1e4b53096873",
   "metadata": {},
   "outputs": [
    {
     "data": {
      "text/plain": [
       "list"
      ]
     },
     "execution_count": 341,
     "metadata": {},
     "output_type": "execute_result"
    }
   ],
   "source": [
    "type(nestedList[:2])"
   ]
  },
  {
   "cell_type": "code",
   "execution_count": 342,
   "id": "11a09083-41ca-4340-b435-58b318d3463a",
   "metadata": {},
   "outputs": [
    {
     "data": {
      "text/plain": [
       "str"
      ]
     },
     "execution_count": 342,
     "metadata": {},
     "output_type": "execute_result"
    }
   ],
   "source": [
    "type(nestedList[2])"
   ]
  },
  {
   "cell_type": "code",
   "execution_count": null,
   "id": "d4ae26e6-793f-451a-a3bb-16617fddde7a",
   "metadata": {},
   "outputs": [],
   "source": []
  }
 ],
 "metadata": {
  "kernelspec": {
   "display_name": "Python 3 (ipykernel)",
   "language": "python",
   "name": "python3"
  },
  "language_info": {
   "codemirror_mode": {
    "name": "ipython",
    "version": 3
   },
   "file_extension": ".py",
   "mimetype": "text/x-python",
   "name": "python",
   "nbconvert_exporter": "python",
   "pygments_lexer": "ipython3",
   "version": "3.12.7"
  },
  "panel-cell-order": [
   "c37797d1-7a79-47fc-8207-b5811939b1de",
   "8feafa7d-90b4-40ee-a37b-14499545706d",
   "3e71125f-384f-4166-b1f9-29eb3a3ae771",
   "299b4fa4-942e-4920-a9d4-414e92b7156b"
  ]
 },
 "nbformat": 4,
 "nbformat_minor": 5
}
