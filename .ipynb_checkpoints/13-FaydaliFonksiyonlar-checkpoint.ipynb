{
 "cells": [
  {
   "cell_type": "code",
   "execution_count": 1,
   "id": "cfecc824-e0f2-4914-bf80-c5ab00d6e19c",
   "metadata": {},
   "outputs": [],
   "source": [
    "def bolmeIslemi(numara):\n",
    "    return numara / 2"
   ]
  },
  {
   "cell_type": "code",
   "execution_count": 2,
   "id": "c5187be4-9355-4e0f-b632-4f28fb66cc77",
   "metadata": {},
   "outputs": [
    {
     "data": {
      "text/plain": [
       "10.0"
      ]
     },
     "execution_count": 2,
     "metadata": {},
     "output_type": "execute_result"
    }
   ],
   "source": [
    "bolmeIslemi(20)"
   ]
  },
  {
   "cell_type": "code",
   "execution_count": 3,
   "id": "e38e13b3-2b4b-4481-8ea3-ebee86ed9ef8",
   "metadata": {},
   "outputs": [],
   "source": [
    "benimListem = [1,2,3,4,5,6,7,8,9,10]"
   ]
  },
  {
   "cell_type": "code",
   "execution_count": 4,
   "id": "b8b514b1-5f27-4573-8bab-3dacf2bc9b61",
   "metadata": {},
   "outputs": [],
   "source": [
    "yeniListe = []\n",
    "for eleman in benimListem:\n",
    "    yeniListe.append(bolmeIslemi(eleman))"
   ]
  },
  {
   "cell_type": "code",
   "execution_count": 5,
   "id": "4fc3ec50-57b2-482e-83fd-e95ddf0bf4d7",
   "metadata": {},
   "outputs": [
    {
     "data": {
      "text/plain": [
       "[0.5, 1.0, 1.5, 2.0, 2.5, 3.0, 3.5, 4.0, 4.5, 5.0]"
      ]
     },
     "execution_count": 5,
     "metadata": {},
     "output_type": "execute_result"
    }
   ],
   "source": [
    "yeniListe"
   ]
  },
  {
   "cell_type": "markdown",
   "id": "9952466b-c8da-4969-9234-e832e22c3a43",
   "metadata": {},
   "source": [
    "## map"
   ]
  },
  {
   "cell_type": "code",
   "execution_count": 7,
   "id": "950be68f-8d15-4ee1-9b15-6c0a8d5caf5c",
   "metadata": {},
   "outputs": [
    {
     "data": {
      "text/plain": [
       "[0.5, 1.0, 1.5, 2.0, 2.5, 3.0, 3.5, 4.0, 4.5, 5.0]"
      ]
     },
     "execution_count": 7,
     "metadata": {},
     "output_type": "execute_result"
    }
   ],
   "source": [
    "list(map(bolmeIslemi,benimListem))"
   ]
  },
  {
   "cell_type": "code",
   "execution_count": 21,
   "id": "373c24db-c5b7-47c3-9ab3-7ed83ada3518",
   "metadata": {},
   "outputs": [],
   "source": [
    "def kontrolFonksiyonu(string):\n",
    "    return \"z\" in string"
   ]
  },
  {
   "cell_type": "code",
   "execution_count": 23,
   "id": "ec8874ca-f6da-4b88-812c-13732cc1d9e5",
   "metadata": {},
   "outputs": [
    {
     "data": {
      "text/plain": [
       "True"
      ]
     },
     "execution_count": 23,
     "metadata": {},
     "output_type": "execute_result"
    }
   ],
   "source": [
    "kontrolFonksiyonu(\"oğuz\")"
   ]
  },
  {
   "cell_type": "code",
   "execution_count": 25,
   "id": "f43784e3-688c-4ad6-b89e-ee50017c3118",
   "metadata": {},
   "outputs": [
    {
     "data": {
      "text/plain": [
       "False"
      ]
     },
     "execution_count": 25,
     "metadata": {},
     "output_type": "execute_result"
    }
   ],
   "source": [
    "kontrolFonksiyonu(\"kağan\")"
   ]
  },
  {
   "cell_type": "code",
   "execution_count": 27,
   "id": "fd6d25c8-ba07-44dc-9389-1ffafe4e294e",
   "metadata": {},
   "outputs": [],
   "source": [
    "stringListesi = [\"oğuz\",\"kağan\",\"atlas\",\"zeynep\",\"mehmet\",\"ahmet\",\"levent\"]"
   ]
  },
  {
   "cell_type": "code",
   "execution_count": 29,
   "id": "1c7ca827-3801-44ee-b3e8-d580b175c466",
   "metadata": {},
   "outputs": [],
   "source": [
    "sonucListesi = list(map(kontrolFonksiyonu,stringListesi))"
   ]
  },
  {
   "cell_type": "code",
   "execution_count": 33,
   "id": "4c359694-af96-467a-9899-159b16737976",
   "metadata": {},
   "outputs": [
    {
     "data": {
      "text/plain": [
       "5"
      ]
     },
     "execution_count": 33,
     "metadata": {},
     "output_type": "execute_result"
    }
   ],
   "source": [
    "sonucListesi.count(False)"
   ]
  },
  {
   "cell_type": "markdown",
   "id": "3626da83-9bf0-44bd-ab75-896cd9ec5426",
   "metadata": {},
   "source": [
    "## filter"
   ]
  },
  {
   "cell_type": "code",
   "execution_count": 34,
   "id": "eb0f6bf8-bc77-472d-82f6-6b6bf6f905cf",
   "metadata": {},
   "outputs": [
    {
     "data": {
      "text/plain": [
       "['oğuz', 'zeynep']"
      ]
     },
     "execution_count": 34,
     "metadata": {},
     "output_type": "execute_result"
    }
   ],
   "source": [
    "list(filter(kontrolFonksiyonu,stringListesi))"
   ]
  },
  {
   "cell_type": "markdown",
   "id": "dce1cb8e-ace5-49d2-9dbb-c7644d3ede98",
   "metadata": {},
   "source": [
    "## lambda"
   ]
  },
  {
   "cell_type": "code",
   "execution_count": 35,
   "id": "c27a1410-e781-4829-8f8c-fadf202fa220",
   "metadata": {},
   "outputs": [],
   "source": [
    "carpma = lambda numara : numara * 3"
   ]
  },
  {
   "cell_type": "code",
   "execution_count": 36,
   "id": "5596fa5f-375f-43f3-becd-cc5ba3032c42",
   "metadata": {},
   "outputs": [
    {
     "data": {
      "text/plain": [
       "30"
      ]
     },
     "execution_count": 36,
     "metadata": {},
     "output_type": "execute_result"
    }
   ],
   "source": [
    "carpma(10)"
   ]
  },
  {
   "cell_type": "code",
   "execution_count": 37,
   "id": "c49dfff2-4121-404c-b045-4288b9e6742f",
   "metadata": {},
   "outputs": [],
   "source": [
    "ornekListesi = [10,20,30]"
   ]
  },
  {
   "cell_type": "code",
   "execution_count": 38,
   "id": "e66b8549-f822-4473-9c5b-02556d3bb216",
   "metadata": {},
   "outputs": [
    {
     "data": {
      "text/plain": [
       "[40, 80, 120]"
      ]
     },
     "execution_count": 38,
     "metadata": {},
     "output_type": "execute_result"
    }
   ],
   "source": [
    "list(map(lambda numara : numara * 4,ornekListesi))"
   ]
  },
  {
   "cell_type": "code",
   "execution_count": null,
   "id": "84787da8-6e74-4bef-b88b-b34983c90226",
   "metadata": {},
   "outputs": [],
   "source": []
  }
 ],
 "metadata": {
  "kernelspec": {
   "display_name": "Python 3 (ipykernel)",
   "language": "python",
   "name": "python3"
  },
  "language_info": {
   "codemirror_mode": {
    "name": "ipython",
    "version": 3
   },
   "file_extension": ".py",
   "mimetype": "text/x-python",
   "name": "python",
   "nbconvert_exporter": "python",
   "pygments_lexer": "ipython3",
   "version": "3.12.7"
  },
  "panel-cell-order": [
   "c37797d1-7a79-47fc-8207-b5811939b1de",
   "8feafa7d-90b4-40ee-a37b-14499545706d",
   "3e71125f-384f-4166-b1f9-29eb3a3ae771",
   "299b4fa4-942e-4920-a9d4-414e92b7156b"
  ]
 },
 "nbformat": 4,
 "nbformat_minor": 5
}
