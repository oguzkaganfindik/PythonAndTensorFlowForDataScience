{
 "cells": [
  {
   "cell_type": "code",
   "execution_count": 41,
   "id": "0135d272-2a79-411e-be1b-3ecc192522f9",
   "metadata": {},
   "outputs": [],
   "source": [
    "benimAdim = \"oğuzkağan fındık\""
   ]
  },
  {
   "cell_type": "code",
   "execution_count": 42,
   "id": "0e85eb9b-ce2f-4e04-b9de-7707d08d6e68",
   "metadata": {},
   "outputs": [
    {
     "data": {
      "text/plain": [
       "'OĞUZKAĞAN FINDIK'"
      ]
     },
     "execution_count": 42,
     "metadata": {},
     "output_type": "execute_result"
    }
   ],
   "source": [
    "benimAdim.upper()"
   ]
  },
  {
   "cell_type": "code",
   "execution_count": 43,
   "id": "d6931616-616f-4251-8721-2e4b07145d40",
   "metadata": {},
   "outputs": [
    {
     "data": {
      "text/plain": [
       "'oğuzkağan fındık'"
      ]
     },
     "execution_count": 43,
     "metadata": {},
     "output_type": "execute_result"
    }
   ],
   "source": [
    "benimAdim"
   ]
  },
  {
   "cell_type": "code",
   "execution_count": 44,
   "id": "0cda61a7-f3b3-446a-a167-3ad160150600",
   "metadata": {},
   "outputs": [],
   "source": [
    "benimAdimBuyukHarfli = benimAdim.upper()"
   ]
  },
  {
   "cell_type": "code",
   "execution_count": 45,
   "id": "a754da9a-1251-48a3-bac5-42697ded3d42",
   "metadata": {},
   "outputs": [
    {
     "data": {
      "text/plain": [
       "'OĞUZKAĞAN FINDIK'"
      ]
     },
     "execution_count": 45,
     "metadata": {},
     "output_type": "execute_result"
    }
   ],
   "source": [
    "benimAdimBuyukHarfli"
   ]
  },
  {
   "cell_type": "code",
   "execution_count": 46,
   "id": "2f940fee-08ee-4f1c-924f-0d13f8993262",
   "metadata": {},
   "outputs": [
    {
     "data": {
      "text/plain": [
       "'oğuzkağan fındık'"
      ]
     },
     "execution_count": 46,
     "metadata": {},
     "output_type": "execute_result"
    }
   ],
   "source": [
    "benimAdim"
   ]
  },
  {
   "cell_type": "code",
   "execution_count": 47,
   "id": "26eb90c7-999b-4e95-981c-60101d6afafa",
   "metadata": {},
   "outputs": [
    {
     "name": "stdout",
     "output_type": "stream",
     "text": [
      "Help on built-in function upper:\n",
      "\n",
      "upper() method of builtins.str instance\n",
      "    Return a copy of the string converted to uppercase.\n",
      "\n"
     ]
    }
   ],
   "source": [
    "help(benimAdim.upper)"
   ]
  },
  {
   "cell_type": "code",
   "execution_count": 48,
   "id": "dfd3ab4d-e80b-4c94-bcb6-6a80d2c5b7c4",
   "metadata": {},
   "outputs": [],
   "source": [
    "def ilkFonksiyon():\n",
    "    print(\"ilk fonksiyonum\")"
   ]
  },
  {
   "cell_type": "code",
   "execution_count": 49,
   "id": "3af36638-d873-4f01-9e38-493f8556e137",
   "metadata": {},
   "outputs": [
    {
     "name": "stdout",
     "output_type": "stream",
     "text": [
      "ilk fonksiyonum\n"
     ]
    }
   ],
   "source": [
    "ilkFonksiyon()"
   ]
  },
  {
   "cell_type": "markdown",
   "id": "658b8884-c277-4e1c-b67a-9842eebbff5e",
   "metadata": {},
   "source": [
    "## input & return"
   ]
  },
  {
   "cell_type": "code",
   "execution_count": 50,
   "id": "ccff8af5-015b-4954-b2ea-ee531751ec04",
   "metadata": {},
   "outputs": [],
   "source": [
    "def merhabaDunya(yazdirilacakIsim):\n",
    "    print(\"merhaba\")\n",
    "    print(yazdirilacakIsim)"
   ]
  },
  {
   "cell_type": "code",
   "execution_count": 51,
   "id": "ffc18b37-af3b-40a6-a0da-32e2cac84432",
   "metadata": {},
   "outputs": [
    {
     "name": "stdout",
     "output_type": "stream",
     "text": [
      "merhaba\n",
      "Oğuz\n"
     ]
    }
   ],
   "source": [
    "merhabaDunya(\"Oğuz\")"
   ]
  },
  {
   "cell_type": "code",
   "execution_count": 52,
   "id": "f05c173d-8531-416a-8f4c-74251dc59c31",
   "metadata": {},
   "outputs": [],
   "source": [
    "def merhaba(isim = \"oğuz\"):\n",
    "    print(\"merhaba\")\n",
    "    print(isim)"
   ]
  },
  {
   "cell_type": "code",
   "execution_count": 53,
   "id": "7d480af1-cc94-444a-9876-113ab6e2f9c8",
   "metadata": {},
   "outputs": [
    {
     "name": "stdout",
     "output_type": "stream",
     "text": [
      "merhaba\n",
      "oğuz\n"
     ]
    }
   ],
   "source": [
    "merhaba()"
   ]
  },
  {
   "cell_type": "code",
   "execution_count": 54,
   "id": "f4f92143-4c86-44fe-8624-b35fb1842bf6",
   "metadata": {},
   "outputs": [
    {
     "name": "stdout",
     "output_type": "stream",
     "text": [
      "merhaba\n",
      "python\n"
     ]
    }
   ],
   "source": [
    "merhaba(\"python\")"
   ]
  },
  {
   "cell_type": "code",
   "execution_count": 55,
   "id": "67c48511-e4b3-4014-a7c2-2bcedd808203",
   "metadata": {},
   "outputs": [],
   "source": [
    "def toplama(numara1, numara2):\n",
    "    sonuc = numara1 + numara2\n",
    "    print(sonuc)"
   ]
  },
  {
   "cell_type": "code",
   "execution_count": 56,
   "id": "fd62da2e-aa73-46de-adf8-6c4a97525f35",
   "metadata": {},
   "outputs": [
    {
     "name": "stdout",
     "output_type": "stream",
     "text": [
      "30\n"
     ]
    }
   ],
   "source": [
    "toplama(10,20)"
   ]
  },
  {
   "cell_type": "code",
   "execution_count": 57,
   "id": "6e485b9b-5056-40e1-9358-c9a678eb70bc",
   "metadata": {},
   "outputs": [],
   "source": [
    "def superToplama(num1,num2,num3):\n",
    "    print(num1+num2+num3)"
   ]
  },
  {
   "cell_type": "code",
   "execution_count": 58,
   "id": "7e7c1d6e-f672-4d44-b562-4d405b8633d1",
   "metadata": {},
   "outputs": [
    {
     "name": "stdout",
     "output_type": "stream",
     "text": [
      "60\n"
     ]
    }
   ],
   "source": [
    "superToplama(10,20,30)"
   ]
  },
  {
   "cell_type": "code",
   "execution_count": 59,
   "id": "67c767b7-293c-4416-8298-5cd4ea838d40",
   "metadata": {},
   "outputs": [
    {
     "name": "stdout",
     "output_type": "stream",
     "text": [
      "30\n"
     ]
    }
   ],
   "source": [
    "yeniDegisken = toplama(10,20)"
   ]
  },
  {
   "cell_type": "code",
   "execution_count": 60,
   "id": "0060f199-7a35-4323-846d-4c63a3bce064",
   "metadata": {},
   "outputs": [
    {
     "data": {
      "text/plain": [
       "NoneType"
      ]
     },
     "execution_count": 60,
     "metadata": {},
     "output_type": "execute_result"
    }
   ],
   "source": [
    "type(yeniDegisken)"
   ]
  },
  {
   "cell_type": "code",
   "execution_count": 61,
   "id": "93250fc9-6425-4e88-bec5-1f2a5739c7fb",
   "metadata": {},
   "outputs": [],
   "source": [
    "def dondurmeliToplama(num1,num2):\n",
    "    return num1+num2"
   ]
  },
  {
   "cell_type": "code",
   "execution_count": 62,
   "id": "aa019b67-f574-4671-9870-d7c369270ba4",
   "metadata": {},
   "outputs": [],
   "source": [
    "yeniSonuc = dondurmeliToplama(10,20)"
   ]
  },
  {
   "cell_type": "code",
   "execution_count": 65,
   "id": "5591d118-634e-41dc-ab90-21bcc076afa0",
   "metadata": {},
   "outputs": [
    {
     "data": {
      "text/plain": [
       "int"
      ]
     },
     "execution_count": 65,
     "metadata": {},
     "output_type": "execute_result"
    }
   ],
   "source": [
    "type(yeniSonuc)"
   ]
  },
  {
   "cell_type": "code",
   "execution_count": 66,
   "id": "fa34dfbe-ed25-4beb-a1c4-b7755d83bd5d",
   "metadata": {},
   "outputs": [],
   "source": [
    "def kontrolFonksiyon(s):\n",
    "    if s == \"oğuz\":\n",
    "        print(\"verdiğiniz string oğuz\")\n",
    "    else:\n",
    "        print(\"verdiğiniz string başka bir şey\")"
   ]
  },
  {
   "cell_type": "code",
   "execution_count": 68,
   "id": "568634e1-5f1c-4e8f-a98d-9bf598880c69",
   "metadata": {},
   "outputs": [
    {
     "name": "stdout",
     "output_type": "stream",
     "text": [
      "verdiğiniz string oğuz\n"
     ]
    }
   ],
   "source": [
    "kontrolFonksiyon(\"oğuz\")"
   ]
  },
  {
   "cell_type": "code",
   "execution_count": 69,
   "id": "adaa798f-f854-4e67-a3f6-8344e2132fad",
   "metadata": {},
   "outputs": [
    {
     "name": "stdout",
     "output_type": "stream",
     "text": [
      "verdiğiniz string başka bir şey\n"
     ]
    }
   ],
   "source": [
    "kontrolFonksiyon(\"python\")"
   ]
  },
  {
   "cell_type": "markdown",
   "id": "540d62fe-4d89-4753-ba04-c1aadfd269a9",
   "metadata": {},
   "source": [
    "## args & kwargs"
   ]
  },
  {
   "cell_type": "code",
   "execution_count": 70,
   "id": "839c1c59-3a8d-4ed8-bd9c-b41e9f4ec208",
   "metadata": {},
   "outputs": [],
   "source": [
    "def yeniToplama(*args):\n",
    "    return sum(args)"
   ]
  },
  {
   "cell_type": "code",
   "execution_count": 71,
   "id": "42ac13de-7300-4fa4-9213-f0efcd3d37ac",
   "metadata": {},
   "outputs": [
    {
     "data": {
      "text/plain": [
       "210"
      ]
     },
     "execution_count": 71,
     "metadata": {},
     "output_type": "execute_result"
    }
   ],
   "source": [
    "yeniToplama(10,20,30,40,50,60)"
   ]
  },
  {
   "cell_type": "code",
   "execution_count": 72,
   "id": "e843247d-174c-4cb2-9dae-5a4c2e8ba7fa",
   "metadata": {},
   "outputs": [
    {
     "data": {
      "text/plain": [
       "30"
      ]
     },
     "execution_count": 72,
     "metadata": {},
     "output_type": "execute_result"
    }
   ],
   "source": [
    "yeniToplama(10,20)"
   ]
  },
  {
   "cell_type": "code",
   "execution_count": 76,
   "id": "d58fc84a-9434-404c-ae3c-494acd867b5f",
   "metadata": {},
   "outputs": [],
   "source": [
    "def benimFonksiyonum(*args):\n",
    "    return args"
   ]
  },
  {
   "cell_type": "code",
   "execution_count": 77,
   "id": "adf87d7e-722f-40b2-b1b9-2e15262bf2ec",
   "metadata": {},
   "outputs": [
    {
     "data": {
      "text/plain": [
       "tuple"
      ]
     },
     "execution_count": 77,
     "metadata": {},
     "output_type": "execute_result"
    }
   ],
   "source": [
    "type(benimFonksiyonum(20,30,40))"
   ]
  },
  {
   "cell_type": "code",
   "execution_count": 81,
   "id": "5fbc5b72-7551-4b8c-8284-cfaff9f8ae58",
   "metadata": {},
   "outputs": [],
   "source": [
    "def ornekFonksiyon(**kwargs):\n",
    "    return(kwargs)"
   ]
  },
  {
   "cell_type": "code",
   "execution_count": 82,
   "id": "83227c95-d93b-4c32-8346-dd245dfb0eb6",
   "metadata": {},
   "outputs": [
    {
     "data": {
      "text/plain": [
       "dict"
      ]
     },
     "execution_count": 82,
     "metadata": {},
     "output_type": "execute_result"
    }
   ],
   "source": [
    "type(ornekFonksiyon(muz = 100, elma = 200, ananas = 300))"
   ]
  },
  {
   "cell_type": "code",
   "execution_count": 83,
   "id": "0110119a-4a6c-4bec-a6e2-4c88ea61f1f9",
   "metadata": {},
   "outputs": [],
   "source": [
    "def keyWordKontrolu(**kwargs):\n",
    "    if \"oğuz\" in kwargs:\n",
    "        print(\"oğuz var\")\n",
    "    else:\n",
    "        print(\"oğuz yok\")"
   ]
  },
  {
   "cell_type": "code",
   "execution_count": 84,
   "id": "138a8990-0d37-4c26-b7c9-6a2f979c942e",
   "metadata": {},
   "outputs": [
    {
     "name": "stdout",
     "output_type": "stream",
     "text": [
      "oğuz var\n"
     ]
    }
   ],
   "source": [
    "keyWordKontrolu(oğuz = 70, zeynep = 50, mehmet = 40)"
   ]
  },
  {
   "cell_type": "code",
   "execution_count": null,
   "id": "d0083cd2-39b8-433a-a4b6-916f0a97df4b",
   "metadata": {},
   "outputs": [],
   "source": []
  }
 ],
 "metadata": {
  "kernelspec": {
   "display_name": "Python 3 (ipykernel)",
   "language": "python",
   "name": "python3"
  },
  "language_info": {
   "codemirror_mode": {
    "name": "ipython",
    "version": 3
   },
   "file_extension": ".py",
   "mimetype": "text/x-python",
   "name": "python",
   "nbconvert_exporter": "python",
   "pygments_lexer": "ipython3",
   "version": "3.12.7"
  }
 },
 "nbformat": 4,
 "nbformat_minor": 5
}
