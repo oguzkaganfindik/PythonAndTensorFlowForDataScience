{
 "cells": [
  {
   "cell_type": "code",
   "execution_count": 7,
   "id": "48726215-f44b-4fc8-acf9-9bcd09d9d7fc",
   "metadata": {},
   "outputs": [
    {
     "name": "stdout",
     "output_type": "stream",
     "text": [
      "0\n",
      "1\n",
      "2\n",
      "3\n",
      "4\n",
      "5\n",
      "6\n",
      "7\n",
      "8\n",
      "9\n"
     ]
    }
   ],
   "source": [
    "x = 0\n",
    "while x < 10:\n",
    "    print(x)\n",
    "    x = x + 1"
   ]
  },
  {
   "cell_type": "code",
   "execution_count": 8,
   "id": "c020f16b-fcf5-47aa-96ec-e0fc4fbfc0f5",
   "metadata": {},
   "outputs": [],
   "source": [
    "benimListem = [1,2,3,4,5]"
   ]
  },
  {
   "cell_type": "code",
   "execution_count": 9,
   "id": "b08cf9bd-438a-4a91-a02a-bb978d24f000",
   "metadata": {},
   "outputs": [
    {
     "data": {
      "text/plain": [
       "5"
      ]
     },
     "execution_count": 9,
     "metadata": {},
     "output_type": "execute_result"
    }
   ],
   "source": [
    "benimListem.pop()"
   ]
  },
  {
   "cell_type": "code",
   "execution_count": 10,
   "id": "5d3430f5-0bf8-4595-8516-169e1bb1f299",
   "metadata": {},
   "outputs": [
    {
     "data": {
      "text/plain": [
       "[1, 2, 3, 4]"
      ]
     },
     "execution_count": 10,
     "metadata": {},
     "output_type": "execute_result"
    }
   ],
   "source": [
    "benimListem"
   ]
  },
  {
   "cell_type": "code",
   "execution_count": 11,
   "id": "e2fff13c-9737-4e75-8b84-6fed2ea2886f",
   "metadata": {},
   "outputs": [],
   "source": [
    "benimListem.append(5)"
   ]
  },
  {
   "cell_type": "code",
   "execution_count": 12,
   "id": "7b3fb55d-cc66-4986-b598-3e3d5d35b712",
   "metadata": {},
   "outputs": [
    {
     "data": {
      "text/plain": [
       "[1, 2, 3, 4, 5]"
      ]
     },
     "execution_count": 12,
     "metadata": {},
     "output_type": "execute_result"
    }
   ],
   "source": [
    "benimListem"
   ]
  },
  {
   "cell_type": "code",
   "execution_count": 13,
   "id": "124be831-7ad4-448d-969d-ac52ec7718e3",
   "metadata": {},
   "outputs": [
    {
     "name": "stdout",
     "output_type": "stream",
     "text": [
      "3 halen listenin içerisinde\n",
      "3 halen listenin içerisinde\n",
      "3 halen listenin içerisinde\n"
     ]
    }
   ],
   "source": [
    "while 3 in benimListem:\n",
    "    print(\"3 halen listenin içerisinde\")\n",
    "    benimListem.pop()"
   ]
  },
  {
   "cell_type": "code",
   "execution_count": 14,
   "id": "539a87e1-93a9-4ef5-b7ea-69b4a135211b",
   "metadata": {},
   "outputs": [],
   "source": [
    "numara = 0"
   ]
  },
  {
   "cell_type": "code",
   "execution_count": 15,
   "id": "9d7d9263-9a5d-4d93-a089-ff5b049841c6",
   "metadata": {},
   "outputs": [
    {
     "name": "stdout",
     "output_type": "stream",
     "text": [
      "0\n",
      "1\n",
      "2\n",
      "3\n"
     ]
    }
   ],
   "source": [
    "while numara < 5:\n",
    "    if numara == 4:\n",
    "        break\n",
    "    print(numara)\n",
    "    numara = numara + 1"
   ]
  },
  {
   "cell_type": "code",
   "execution_count": 23,
   "id": "930ccbbe-2530-43c2-9fc1-140c41ca3894",
   "metadata": {},
   "outputs": [
    {
     "name": "stdout",
     "output_type": "stream",
     "text": [
      "yenidegisken'in güncel değeri: 0\n",
      "yenidegisken'in güncel değeri: 1\n",
      "yenidegisken'in güncel değeri: 2\n",
      "yenidegisken'in güncel değeri: 3\n",
      "yenidegisken'in güncel değeri: 4\n",
      "yenidegisken'in güncel değeri: 5\n",
      "yenidegisken'in güncel değeri: 6\n",
      "yenidegisken'in güncel değeri: 7\n",
      "yenidegisken'in güncel değeri: 8\n",
      "yenidegisken'in güncel değeri: 9\n",
      "yenidegisken'in güncel değeri: 10\n",
      "yenidegisken'in güncel değeri: 11\n",
      "yenidegisken'in güncel değeri: 12\n",
      "yenidegisken'in güncel değeri: 13\n",
      "yenidegisken'in güncel değeri: 14\n"
     ]
    }
   ],
   "source": [
    "yeniDegisken = 0\n",
    "while yeniDegisken < 15:\n",
    "    #print(\"yeniDegisken'in güncel değeri: \" + str(yeniDegisken))\n",
    "    print(f\"yenidegisken'in güncel değeri: {yeniDegisken}\")\n",
    "    yeniDegisken = yeniDegisken + 1"
   ]
  },
  {
   "cell_type": "code",
   "execution_count": null,
   "id": "79636c25-c07e-42e3-94cd-f2ecd8df9b69",
   "metadata": {},
   "outputs": [],
   "source": []
  }
 ],
 "metadata": {
  "kernelspec": {
   "display_name": "Python 3 (ipykernel)",
   "language": "python",
   "name": "python3"
  },
  "language_info": {
   "codemirror_mode": {
    "name": "ipython",
    "version": 3
   },
   "file_extension": ".py",
   "mimetype": "text/x-python",
   "name": "python",
   "nbconvert_exporter": "python",
   "pygments_lexer": "ipython3",
   "version": "3.12.7"
  },
  "panel-cell-order": [
   "c37797d1-7a79-47fc-8207-b5811939b1de",
   "8feafa7d-90b4-40ee-a37b-14499545706d",
   "3e71125f-384f-4166-b1f9-29eb3a3ae771",
   "299b4fa4-942e-4920-a9d4-414e92b7156b"
  ]
 },
 "nbformat": 4,
 "nbformat_minor": 5
}
