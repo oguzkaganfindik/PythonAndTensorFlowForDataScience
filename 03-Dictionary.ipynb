{
 "cells": [
  {
   "cell_type": "code",
   "execution_count": 1,
   "id": "2f075614-938c-46c8-aa26-ceb02782b575",
   "metadata": {},
   "outputs": [],
   "source": [
    "benimListem = [1,2,3]"
   ]
  },
  {
   "cell_type": "code",
   "execution_count": 2,
   "id": "ef854697-f0e8-49ec-9882-772689f6e798",
   "metadata": {},
   "outputs": [
    {
     "data": {
      "text/plain": [
       "1"
      ]
     },
     "execution_count": 2,
     "metadata": {},
     "output_type": "execute_result"
    }
   ],
   "source": [
    "benimListem[0]"
   ]
  },
  {
   "cell_type": "markdown",
   "id": "40cbea36-d4db-4da5-8366-225a5c9376f8",
   "metadata": {},
   "source": [
    "## key-value pairing (anahtar kelime - değer eşleşmesi)"
   ]
  },
  {
   "cell_type": "code",
   "execution_count": 4,
   "id": "484e78ac-4ef1-4868-b510-6af953e97b27",
   "metadata": {},
   "outputs": [],
   "source": [
    "benimYemeklerim = [\"Elma\", \"Karpuz\", \"Muz\"]"
   ]
  },
  {
   "cell_type": "code",
   "execution_count": 5,
   "id": "ff985707-4a61-4966-a474-25a1bd416eaa",
   "metadata": {},
   "outputs": [
    {
     "data": {
      "text/plain": [
       "['Elma', 'Karpuz', 'Muz']"
      ]
     },
     "execution_count": 5,
     "metadata": {},
     "output_type": "execute_result"
    }
   ],
   "source": [
    "benimYemeklerim"
   ]
  },
  {
   "cell_type": "code",
   "execution_count": 6,
   "id": "f03d5bd2-746f-45fc-b095-bb85a6555c22",
   "metadata": {},
   "outputs": [],
   "source": [
    "benimKalorilerim = [100,200,300]"
   ]
  },
  {
   "cell_type": "code",
   "execution_count": 7,
   "id": "7305f672-d220-47d9-aaed-cc7501fd5bdb",
   "metadata": {},
   "outputs": [
    {
     "data": {
      "text/plain": [
       "'Karpuz'"
      ]
     },
     "execution_count": 7,
     "metadata": {},
     "output_type": "execute_result"
    }
   ],
   "source": [
    "benimYemeklerim[1]"
   ]
  },
  {
   "cell_type": "code",
   "execution_count": 8,
   "id": "066f3ab5-e74d-4660-8c87-51e138f7f233",
   "metadata": {},
   "outputs": [
    {
     "data": {
      "text/plain": [
       "200"
      ]
     },
     "execution_count": 8,
     "metadata": {},
     "output_type": "execute_result"
    }
   ],
   "source": [
    "benimKalorilerim[1]"
   ]
  },
  {
   "cell_type": "markdown",
   "id": "e45d29ab-66ac-472e-9b62-8c9e1a034c0a",
   "metadata": {},
   "source": [
    "## Dictionary"
   ]
  },
  {
   "cell_type": "code",
   "execution_count": 9,
   "id": "792a8d3e-3fad-46e8-a4fc-64f25d9150a1",
   "metadata": {},
   "outputs": [],
   "source": [
    "benimSozluk = {\"anahtarkelime\" : \"deger\"}"
   ]
  },
  {
   "cell_type": "code",
   "execution_count": 10,
   "id": "f0bc8cbc-e75e-464b-9a6f-7a01f2414115",
   "metadata": {},
   "outputs": [
    {
     "data": {
      "text/plain": [
       "{'anahtarkelime': 'deger'}"
      ]
     },
     "execution_count": 10,
     "metadata": {},
     "output_type": "execute_result"
    }
   ],
   "source": [
    "benimSozluk"
   ]
  },
  {
   "cell_type": "code",
   "execution_count": 11,
   "id": "46f2ec14-f875-46d8-b81e-1ec45e0a55d2",
   "metadata": {},
   "outputs": [
    {
     "data": {
      "text/plain": [
       "dict"
      ]
     },
     "execution_count": 11,
     "metadata": {},
     "output_type": "execute_result"
    }
   ],
   "source": [
    "type(benimSozluk)"
   ]
  },
  {
   "cell_type": "code",
   "execution_count": 13,
   "id": "72475e6f-a829-4d04-abd5-7615adef3578",
   "metadata": {},
   "outputs": [
    {
     "data": {
      "text/plain": [
       "'deger'"
      ]
     },
     "execution_count": 13,
     "metadata": {},
     "output_type": "execute_result"
    }
   ],
   "source": [
    "benimSozluk[\"anahtarkelime\"]"
   ]
  },
  {
   "cell_type": "code",
   "execution_count": 14,
   "id": "d79c7201-052d-4112-80ae-7186991bf6fe",
   "metadata": {},
   "outputs": [],
   "source": [
    "benimYemekKaloriSozlugum = {\"elma\":100, \"karpuz\":200, \"muz\":300 }"
   ]
  },
  {
   "cell_type": "code",
   "execution_count": 15,
   "id": "96536c68-367a-4aca-9123-6be70663b985",
   "metadata": {},
   "outputs": [
    {
     "data": {
      "text/plain": [
       "{'elma': 100, 'karpuz': 200, 'muz': 300}"
      ]
     },
     "execution_count": 15,
     "metadata": {},
     "output_type": "execute_result"
    }
   ],
   "source": [
    "benimYemekKaloriSozlugum"
   ]
  },
  {
   "cell_type": "code",
   "execution_count": 16,
   "id": "b038a125-511b-4d30-9476-4cddcef53205",
   "metadata": {},
   "outputs": [
    {
     "data": {
      "text/plain": [
       "300"
      ]
     },
     "execution_count": 16,
     "metadata": {},
     "output_type": "execute_result"
    }
   ],
   "source": [
    "benimYemekKaloriSozlugum[\"muz\"]"
   ]
  },
  {
   "cell_type": "code",
   "execution_count": 17,
   "id": "3428ac27-cdd9-4c08-b698-c8b7bd1065b8",
   "metadata": {},
   "outputs": [],
   "source": [
    "benimYemekKaloriSozlugum[\"elma\"] = 200"
   ]
  },
  {
   "cell_type": "code",
   "execution_count": 18,
   "id": "465ccc6e-9bc1-4f93-8e45-e0fd5a4e13ad",
   "metadata": {},
   "outputs": [
    {
     "data": {
      "text/plain": [
       "{'elma': 200, 'karpuz': 200, 'muz': 300}"
      ]
     },
     "execution_count": 18,
     "metadata": {},
     "output_type": "execute_result"
    }
   ],
   "source": [
    "benimYemekKaloriSozlugum"
   ]
  },
  {
   "cell_type": "code",
   "execution_count": 21,
   "id": "c412ca94-d968-4a9f-9874-882255ab8efe",
   "metadata": {},
   "outputs": [],
   "source": [
    "benimDegisikSozlugum = {100:\"oğuz\", 200:\"kağan\"}"
   ]
  },
  {
   "cell_type": "code",
   "execution_count": 23,
   "id": "efd467ee-0310-47e3-930a-542d58a95269",
   "metadata": {},
   "outputs": [
    {
     "data": {
      "text/plain": [
       "'oğuz'"
      ]
     },
     "execution_count": 23,
     "metadata": {},
     "output_type": "execute_result"
    }
   ],
   "source": [
    "benimDegisikSozlugum[100]"
   ]
  },
  {
   "cell_type": "code",
   "execution_count": 26,
   "id": "45fe3ced-87bc-4cf8-beda-ccf77b487878",
   "metadata": {},
   "outputs": [],
   "source": [
    "yeniDictionary = {\"anahtar1\":100, \"anahtar2\":[10,20,30,40,4.5,\"oğuz\"],\"anahtar3\":{\"anahtar9\":4}}"
   ]
  },
  {
   "cell_type": "code",
   "execution_count": 27,
   "id": "5be235d9-8a19-47b1-813d-86e6ea0ed010",
   "metadata": {},
   "outputs": [
    {
     "data": {
      "text/plain": [
       "dict_keys(['anahtar1', 'anahtar2', 'anahtar3'])"
      ]
     },
     "execution_count": 27,
     "metadata": {},
     "output_type": "execute_result"
    }
   ],
   "source": [
    "yeniDictionary.keys()"
   ]
  },
  {
   "cell_type": "code",
   "execution_count": 28,
   "id": "fa0221c1-3564-4f6d-9b3b-4ad26db22fae",
   "metadata": {},
   "outputs": [
    {
     "data": {
      "text/plain": [
       "dict_values([100, [10, 20, 30, 40, 4.5, 'oğuz'], {'anahtar9': 4}])"
      ]
     },
     "execution_count": 28,
     "metadata": {},
     "output_type": "execute_result"
    }
   ],
   "source": [
    "yeniDictionary.values()"
   ]
  },
  {
   "cell_type": "code",
   "execution_count": 33,
   "id": "48ba5491-57ad-45ed-9450-44bb53b0bd6c",
   "metadata": {},
   "outputs": [
    {
     "data": {
      "text/plain": [
       "'oğuz'"
      ]
     },
     "execution_count": 33,
     "metadata": {},
     "output_type": "execute_result"
    }
   ],
   "source": [
    "yeniDictionary[\"anahtar2\"][5]"
   ]
  },
  {
   "cell_type": "code",
   "execution_count": 35,
   "id": "9e8a4de7-ae76-4874-a360-2e65215fb824",
   "metadata": {},
   "outputs": [
    {
     "data": {
      "text/plain": [
       "4"
      ]
     },
     "execution_count": 35,
     "metadata": {},
     "output_type": "execute_result"
    }
   ],
   "source": [
    "yeniDictionary[\"anahtar3\"][\"anahtar9\"]"
   ]
  },
  {
   "cell_type": "code",
   "execution_count": null,
   "id": "b7ac9693-3bf0-4c80-b6f3-45cc11b04f9a",
   "metadata": {},
   "outputs": [],
   "source": []
  }
 ],
 "metadata": {
  "kernelspec": {
   "display_name": "Python 3 (ipykernel)",
   "language": "python",
   "name": "python3"
  },
  "language_info": {
   "codemirror_mode": {
    "name": "ipython",
    "version": 3
   },
   "file_extension": ".py",
   "mimetype": "text/x-python",
   "name": "python",
   "nbconvert_exporter": "python",
   "pygments_lexer": "ipython3",
   "version": "3.12.7"
  },
  "panel-cell-order": [
   "c37797d1-7a79-47fc-8207-b5811939b1de",
   "8feafa7d-90b4-40ee-a37b-14499545706d",
   "3e71125f-384f-4166-b1f9-29eb3a3ae771",
   "299b4fa4-942e-4920-a9d4-414e92b7156b"
  ]
 },
 "nbformat": 4,
 "nbformat_minor": 5
}
