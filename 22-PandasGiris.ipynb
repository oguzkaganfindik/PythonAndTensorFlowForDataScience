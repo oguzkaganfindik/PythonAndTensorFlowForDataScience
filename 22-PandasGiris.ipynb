{
 "cells": [
  {
   "cell_type": "markdown",
   "id": "e15385f4-f0b9-4e82-a640-efea13fe41be",
   "metadata": {},
   "source": [
    "## https://pandas.pydata.org/"
   ]
  },
  {
   "cell_type": "code",
   "execution_count": 2,
   "id": "0e5273f6-9407-471c-82ea-1b957a88a3ae",
   "metadata": {},
   "outputs": [],
   "source": [
    "import numpy as np"
   ]
  },
  {
   "cell_type": "code",
   "execution_count": 3,
   "id": "057844a7-1682-4878-ae79-36c7d48465b0",
   "metadata": {},
   "outputs": [],
   "source": [
    "import pandas as pd"
   ]
  },
  {
   "cell_type": "markdown",
   "id": "14576d9e-059e-41d1-899a-4e632f9f499f",
   "metadata": {},
   "source": [
    "## Series / Seriler"
   ]
  },
  {
   "cell_type": "code",
   "execution_count": 6,
   "id": "449e3cdf-ce53-4635-b0c2-92df2e72411a",
   "metadata": {},
   "outputs": [],
   "source": [
    "benimSozlugum = {\"Oguz\" : 30, \"Zeynep\" : 40, \"Mehmet\" : 20}"
   ]
  },
  {
   "cell_type": "code",
   "execution_count": 9,
   "id": "2e22dff7-f76c-43b5-be13-cd031d475528",
   "metadata": {},
   "outputs": [
    {
     "data": {
      "text/plain": [
       "Oguz      30\n",
       "Zeynep    40\n",
       "Mehmet    20\n",
       "dtype: int64"
      ]
     },
     "execution_count": 9,
     "metadata": {},
     "output_type": "execute_result"
    }
   ],
   "source": [
    "pd.Series(benimSozlugum)"
   ]
  },
  {
   "cell_type": "code",
   "execution_count": 14,
   "id": "a9d8ea72-6848-4143-9f84-caee87923852",
   "metadata": {},
   "outputs": [],
   "source": [
    "benimYaslarim = [30,40,20]\n",
    "benimIsimlerim = [\"Oguz\",\"Zeynep\",\"Mehmet\"]"
   ]
  },
  {
   "cell_type": "code",
   "execution_count": 15,
   "id": "ec28b0d2-db6f-4586-b95b-b82006ce5d4c",
   "metadata": {},
   "outputs": [
    {
     "data": {
      "text/plain": [
       "0    30\n",
       "1    40\n",
       "2    20\n",
       "dtype: int64"
      ]
     },
     "execution_count": 15,
     "metadata": {},
     "output_type": "execute_result"
    }
   ],
   "source": [
    "pd.Series(benimYaslarim)"
   ]
  },
  {
   "cell_type": "code",
   "execution_count": 16,
   "id": "d1bd7643-5f02-40dd-9fb4-2a7c0272a207",
   "metadata": {},
   "outputs": [
    {
     "data": {
      "text/plain": [
       "Oguz      30\n",
       "Zeynep    40\n",
       "Mehmet    20\n",
       "dtype: int64"
      ]
     },
     "execution_count": 16,
     "metadata": {},
     "output_type": "execute_result"
    }
   ],
   "source": [
    "pd.Series(benimYaslarim,benimIsimlerim)"
   ]
  },
  {
   "cell_type": "code",
   "execution_count": 17,
   "id": "a1f98378-44c4-4e6c-b35b-272122477174",
   "metadata": {},
   "outputs": [
    {
     "data": {
      "text/plain": [
       "Oguz      30\n",
       "Zeynep    40\n",
       "Mehmet    20\n",
       "dtype: int64"
      ]
     },
     "execution_count": 17,
     "metadata": {},
     "output_type": "execute_result"
    }
   ],
   "source": [
    "pd.Series(data=benimYaslarim, index=benimIsimlerim)"
   ]
  },
  {
   "cell_type": "code",
   "execution_count": 18,
   "id": "80c828fe-55fb-49e8-847c-088947a673f7",
   "metadata": {},
   "outputs": [],
   "source": [
    "numpyDizisi = np.array([30,40,20])"
   ]
  },
  {
   "cell_type": "code",
   "execution_count": 19,
   "id": "f92e47b9-4317-4acd-a3d0-5659f3611e10",
   "metadata": {},
   "outputs": [
    {
     "data": {
      "text/plain": [
       "array([30, 40, 20])"
      ]
     },
     "execution_count": 19,
     "metadata": {},
     "output_type": "execute_result"
    }
   ],
   "source": [
    "numpyDizisi"
   ]
  },
  {
   "cell_type": "code",
   "execution_count": 20,
   "id": "6b79b721-8e1d-40c4-8d94-9612ece2563d",
   "metadata": {},
   "outputs": [
    {
     "data": {
      "text/plain": [
       "0    30\n",
       "1    40\n",
       "2    20\n",
       "dtype: int32"
      ]
     },
     "execution_count": 20,
     "metadata": {},
     "output_type": "execute_result"
    }
   ],
   "source": [
    "pd.Series(numpyDizisi)"
   ]
  },
  {
   "cell_type": "code",
   "execution_count": 21,
   "id": "111c5a18-8d47-4c1a-8cae-938c2eef3590",
   "metadata": {},
   "outputs": [
    {
     "data": {
      "text/plain": [
       "Oguz      30\n",
       "Zeynep    40\n",
       "Mehmet    20\n",
       "dtype: int32"
      ]
     },
     "execution_count": 21,
     "metadata": {},
     "output_type": "execute_result"
    }
   ],
   "source": [
    "pd.Series(numpyDizisi,benimIsimlerim)"
   ]
  },
  {
   "cell_type": "code",
   "execution_count": 22,
   "id": "1eb2797d-72fd-48a0-bdba-947f7a812ac3",
   "metadata": {},
   "outputs": [
    {
     "data": {
      "text/plain": [
       "1     Oğuz\n",
       "2    Atlas\n",
       "3    Osman\n",
       "dtype: object"
      ]
     },
     "execution_count": 22,
     "metadata": {},
     "output_type": "execute_result"
    }
   ],
   "source": [
    "pd.Series([\"Oğuz\",\"Atlas\",\"Osman\"],[1,2,3])"
   ]
  },
  {
   "cell_type": "code",
   "execution_count": 23,
   "id": "e23f878d-1ba2-4122-97c3-2bcfe563f26d",
   "metadata": {},
   "outputs": [],
   "source": [
    "yarismaSonucu1 = pd.Series([10,5,1],[\"Oğuz\",\"Atlas\",\"Osman\"])"
   ]
  },
  {
   "cell_type": "code",
   "execution_count": 24,
   "id": "3148a59b-0038-4371-ad73-aeabed1a72b2",
   "metadata": {},
   "outputs": [
    {
     "data": {
      "text/plain": [
       "Oğuz     10\n",
       "Atlas     5\n",
       "Osman     1\n",
       "dtype: int64"
      ]
     },
     "execution_count": 24,
     "metadata": {},
     "output_type": "execute_result"
    }
   ],
   "source": [
    "yarismaSonucu1"
   ]
  },
  {
   "cell_type": "code",
   "execution_count": 25,
   "id": "56dfa265-b06f-45e8-8a02-426379131915",
   "metadata": {},
   "outputs": [],
   "source": [
    "yarismaSonucu2 = pd.Series([20,10,8],[\"Oğuz\",\"Atlas\",\"Osman\"])"
   ]
  },
  {
   "cell_type": "code",
   "execution_count": 26,
   "id": "aa0b261e-2fd8-4d6c-b871-c617b18469ba",
   "metadata": {},
   "outputs": [
    {
     "data": {
      "text/plain": [
       "Oğuz     20\n",
       "Atlas    10\n",
       "Osman     8\n",
       "dtype: int64"
      ]
     },
     "execution_count": 26,
     "metadata": {},
     "output_type": "execute_result"
    }
   ],
   "source": [
    "yarismaSonucu2"
   ]
  },
  {
   "cell_type": "code",
   "execution_count": 28,
   "id": "5cd2af20-c276-471f-9f02-782cb3e7a948",
   "metadata": {},
   "outputs": [
    {
     "data": {
      "text/plain": [
       "10"
      ]
     },
     "execution_count": 28,
     "metadata": {},
     "output_type": "execute_result"
    }
   ],
   "source": [
    "yarismaSonucu2[\"Atlas\"]"
   ]
  },
  {
   "cell_type": "code",
   "execution_count": 29,
   "id": "dd05ffec-36f1-4a66-adb9-e3f9612cc304",
   "metadata": {},
   "outputs": [],
   "source": [
    "sonSonuc = yarismaSonucu1 + yarismaSonucu2"
   ]
  },
  {
   "cell_type": "code",
   "execution_count": 30,
   "id": "d1c3f81e-b45c-4893-afef-e5f4a3c2280f",
   "metadata": {},
   "outputs": [
    {
     "data": {
      "text/plain": [
       "Oğuz     30\n",
       "Atlas    15\n",
       "Osman     9\n",
       "dtype: int64"
      ]
     },
     "execution_count": 30,
     "metadata": {},
     "output_type": "execute_result"
    }
   ],
   "source": [
    "sonSonuc"
   ]
  },
  {
   "cell_type": "code",
   "execution_count": 31,
   "id": "ce040115-8dc1-4272-9518-14dde6053d77",
   "metadata": {},
   "outputs": [],
   "source": [
    "farkliSeries = pd.Series([20,30,40,50],[\"a\",\"b\",\"c\",\"d\"])"
   ]
  },
  {
   "cell_type": "code",
   "execution_count": 32,
   "id": "c835f652-50a6-4478-a582-055482de8fd2",
   "metadata": {},
   "outputs": [],
   "source": [
    "farkliSeries2 = pd.Series([10,5,3,1],[\"a\",\"c\",\"f\",\"g\"])"
   ]
  },
  {
   "cell_type": "code",
   "execution_count": 33,
   "id": "5ee8952d-fb28-4c18-aa5b-5ba3184af6e0",
   "metadata": {},
   "outputs": [
    {
     "data": {
      "text/plain": [
       "a    20\n",
       "b    30\n",
       "c    40\n",
       "d    50\n",
       "dtype: int64"
      ]
     },
     "execution_count": 33,
     "metadata": {},
     "output_type": "execute_result"
    }
   ],
   "source": [
    "farkliSeries"
   ]
  },
  {
   "cell_type": "code",
   "execution_count": 34,
   "id": "43b6b6ae-375b-458f-be05-f0c6d2f69af9",
   "metadata": {},
   "outputs": [
    {
     "data": {
      "text/plain": [
       "a    10\n",
       "c     5\n",
       "f     3\n",
       "g     1\n",
       "dtype: int64"
      ]
     },
     "execution_count": 34,
     "metadata": {},
     "output_type": "execute_result"
    }
   ],
   "source": [
    "farkliSeries2"
   ]
  },
  {
   "cell_type": "code",
   "execution_count": 35,
   "id": "b5f814cb-d6a0-4f64-b0e2-257bc2d17824",
   "metadata": {},
   "outputs": [
    {
     "data": {
      "text/plain": [
       "a    30.0\n",
       "b     NaN\n",
       "c    45.0\n",
       "d     NaN\n",
       "f     NaN\n",
       "g     NaN\n",
       "dtype: float64"
      ]
     },
     "execution_count": 35,
     "metadata": {},
     "output_type": "execute_result"
    }
   ],
   "source": [
    "farkliSeries + farkliSeries2"
   ]
  },
  {
   "cell_type": "code",
   "execution_count": null,
   "id": "2036e165-42cf-4c43-b202-5f2732ebb266",
   "metadata": {},
   "outputs": [],
   "source": []
  }
 ],
 "metadata": {
  "kernelspec": {
   "display_name": "Python 3 (ipykernel)",
   "language": "python",
   "name": "python3"
  },
  "language_info": {
   "codemirror_mode": {
    "name": "ipython",
    "version": 3
   },
   "file_extension": ".py",
   "mimetype": "text/x-python",
   "name": "python",
   "nbconvert_exporter": "python",
   "pygments_lexer": "ipython3",
   "version": "3.12.7"
  },
  "panel-cell-order": [
   "c37797d1-7a79-47fc-8207-b5811939b1de",
   "8feafa7d-90b4-40ee-a37b-14499545706d",
   "3e71125f-384f-4166-b1f9-29eb3a3ae771",
   "299b4fa4-942e-4920-a9d4-414e92b7156b"
  ]
 },
 "nbformat": 4,
 "nbformat_minor": 5
}
